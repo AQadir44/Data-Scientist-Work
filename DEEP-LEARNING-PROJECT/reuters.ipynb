{
 "cells": [
  {
   "cell_type": "markdown",
   "metadata": {},
   "source": [
    "#  The Reuters dataset "
   ]
  },
  {
   "cell_type": "markdown",
   "metadata": {},
   "source": [
    " a set of short newswires and their topics, published by Reuters in 1986. It’s a simple, widely used toy dataset for text classification. There are 46 different topics; some topics are more represented than others, but each topic has at least 10 examples in the training set"
   ]
  },
  {
   "cell_type": "markdown",
   "metadata": {},
   "source": [
    "# Loading the Reuters dataset"
   ]
  },
  {
   "cell_type": "code",
   "execution_count": 32,
   "metadata": {},
   "outputs": [],
   "source": [
    "from keras.datasets import reuters\n",
    "(train_data, train_labels), (test_data, test_labels) = reuters.load_data( num_words=10000)"
   ]
  },
  {
   "cell_type": "code",
   "execution_count": 2,
   "metadata": {},
   "outputs": [
    {
     "data": {
      "text/plain": [
       "8982"
      ]
     },
     "execution_count": 2,
     "metadata": {},
     "output_type": "execute_result"
    }
   ],
   "source": [
    "len(train_data)"
   ]
  },
  {
   "cell_type": "code",
   "execution_count": 3,
   "metadata": {},
   "outputs": [
    {
     "data": {
      "text/plain": [
       "2246"
      ]
     },
     "execution_count": 3,
     "metadata": {},
     "output_type": "execute_result"
    }
   ],
   "source": [
    "len(test_data)"
   ]
  },
  {
   "cell_type": "code",
   "execution_count": 4,
   "metadata": {},
   "outputs": [
    {
     "data": {
      "text/plain": [
       "[1,\n",
       " 245,\n",
       " 273,\n",
       " 207,\n",
       " 156,\n",
       " 53,\n",
       " 74,\n",
       " 160,\n",
       " 26,\n",
       " 14,\n",
       " 46,\n",
       " 296,\n",
       " 26,\n",
       " 39,\n",
       " 74,\n",
       " 2979,\n",
       " 3554,\n",
       " 14,\n",
       " 46,\n",
       " 4689,\n",
       " 4329,\n",
       " 86,\n",
       " 61,\n",
       " 3499,\n",
       " 4795,\n",
       " 14,\n",
       " 61,\n",
       " 451,\n",
       " 4329,\n",
       " 17,\n",
       " 12]"
      ]
     },
     "execution_count": 4,
     "metadata": {},
     "output_type": "execute_result"
    }
   ],
   "source": [
    "train_data[10]"
   ]
  },
  {
   "cell_type": "markdown",
   "metadata": {},
   "source": [
    "# Decoding newswires back to text"
   ]
  },
  {
   "cell_type": "code",
   "execution_count": 5,
   "metadata": {},
   "outputs": [
    {
     "name": "stdout",
     "output_type": "stream",
     "text": [
      "Downloading data from https://s3.amazonaws.com/text-datasets/reuters_word_index.json\n",
      "557056/550378 [==============================] - 3s 5us/step\n"
     ]
    }
   ],
   "source": [
    "word_index = reuters.get_word_index() \n",
    "reverse_word_index = dict([(value, key) for (key, value) in word_index.items()]) \n",
    "decoded_newswire = ' '.join([reverse_word_index.get(i - 3, '?')\n",
    "                             for i in train_data[0]])\n"
   ]
  },
  {
   "cell_type": "code",
   "execution_count": 33,
   "metadata": {},
   "outputs": [
    {
     "data": {
      "text/plain": [
       "'? ? ? said as a result of its december acquisition of space co it expects earnings per share in 1987 of 1 15 to 1 30 dlrs per share up from 70 cts in 1986 the company said pretax net should rise to nine to 10 mln dlrs from six mln dlrs in 1986 and rental operation revenues to 19 to 22 mln dlrs from 12 5 mln dlrs it said cash flow per share this year should be 2 50 to three dlrs reuter 3'"
      ]
     },
     "execution_count": 33,
     "metadata": {},
     "output_type": "execute_result"
    }
   ],
   "source": [
    "decoded_newswire"
   ]
  },
  {
   "cell_type": "code",
   "execution_count": 35,
   "metadata": {},
   "outputs": [
    {
     "data": {
      "text/plain": [
       "array([ 0,  1,  2,  3,  4,  5,  6,  7,  8,  9, 10, 11, 12, 13, 14, 15, 16,\n",
       "       17, 18, 19, 20, 21, 22, 23, 24, 25, 26, 27, 28, 29, 30, 31, 32, 33,\n",
       "       34, 35, 36, 37, 38, 39, 40, 41, 42, 43, 44, 45], dtype=int64)"
      ]
     },
     "execution_count": 35,
     "metadata": {},
     "output_type": "execute_result"
    }
   ],
   "source": [
    "np.unique(train_labels)"
   ]
  },
  {
   "cell_type": "code",
   "execution_count": 6,
   "metadata": {},
   "outputs": [
    {
     "data": {
      "text/plain": [
       "3"
      ]
     },
     "execution_count": 6,
     "metadata": {},
     "output_type": "execute_result"
    }
   ],
   "source": [
    "train_labels[10]"
   ]
  },
  {
   "cell_type": "markdown",
   "metadata": {},
   "source": [
    "# Encoding the data"
   ]
  },
  {
   "cell_type": "code",
   "execution_count": 7,
   "metadata": {},
   "outputs": [],
   "source": [
    "import numpy as np\n",
    "def vectorize_sequences(sequences, dimension=10000): \n",
    "    results = np.zeros((len(sequences), dimension)) \n",
    "    for i, sequence in enumerate(sequences): \n",
    "        results[i, sequence] = 1. \n",
    "        return results\n",
    "x_train = vectorize_sequences(train_data)\n",
    "x_test = vectorize_sequences(test_data)\n"
   ]
  },
  {
   "cell_type": "code",
   "execution_count": 8,
   "metadata": {},
   "outputs": [
    {
     "data": {
      "text/plain": [
       "array([[0., 1., 1., ..., 0., 0., 0.],\n",
       "       [0., 0., 0., ..., 0., 0., 0.],\n",
       "       [0., 0., 0., ..., 0., 0., 0.],\n",
       "       ...,\n",
       "       [0., 0., 0., ..., 0., 0., 0.],\n",
       "       [0., 0., 0., ..., 0., 0., 0.],\n",
       "       [0., 0., 0., ..., 0., 0., 0.]])"
      ]
     },
     "execution_count": 8,
     "metadata": {},
     "output_type": "execute_result"
    }
   ],
   "source": [
    "x_train"
   ]
  },
  {
   "cell_type": "code",
   "execution_count": 9,
   "metadata": {},
   "outputs": [
    {
     "data": {
      "text/plain": [
       "array([[0., 1., 1., ..., 0., 0., 0.],\n",
       "       [0., 0., 0., ..., 0., 0., 0.],\n",
       "       [0., 0., 0., ..., 0., 0., 0.],\n",
       "       ...,\n",
       "       [0., 0., 0., ..., 0., 0., 0.],\n",
       "       [0., 0., 0., ..., 0., 0., 0.],\n",
       "       [0., 0., 0., ..., 0., 0., 0.]])"
      ]
     },
     "execution_count": 9,
     "metadata": {},
     "output_type": "execute_result"
    }
   ],
   "source": [
    "x_test"
   ]
  },
  {
   "cell_type": "code",
   "execution_count": 10,
   "metadata": {},
   "outputs": [],
   "source": [
    "def to_one_hot(labels, dimension=46): \n",
    "    results = np.zeros((len(labels), dimension)) \n",
    "    for i, label in enumerate(labels):\n",
    "        results[i, label] = 1.\n",
    "        return results\n",
    "one_hot_train_labels = to_one_hot(train_labels)\n",
    "one_hot_test_labels = to_one_hot(test_labels)\n"
   ]
  },
  {
   "cell_type": "code",
   "execution_count": 11,
   "metadata": {},
   "outputs": [],
   "source": [
    "from keras.utils.np_utils import to_categorical\n",
    "one_hot_train_labels = to_categorical(train_labels) \n",
    "one_hot_test_labels = to_categorical(test_labels)\n"
   ]
  },
  {
   "cell_type": "markdown",
   "metadata": {},
   "source": [
    "# Model definition"
   ]
  },
  {
   "cell_type": "code",
   "execution_count": 36,
   "metadata": {},
   "outputs": [],
   "source": [
    "from keras import models \n",
    "from keras import layers\n",
    "model = models.Sequential() \n",
    "model.add(layers.Dense(64, activation='relu', input_shape=(10000,))) \n",
    "model.add(layers.Dense(64, activation='relu')) \n",
    "model.add(layers.Dense(46, activation='softmax'))\n"
   ]
  },
  {
   "cell_type": "markdown",
   "metadata": {},
   "source": [
    "# Compiling the model"
   ]
  },
  {
   "cell_type": "code",
   "execution_count": 14,
   "metadata": {},
   "outputs": [],
   "source": [
    "model.compile(optimizer='rmsprop', loss='categorical_crossentropy', metrics=['accuracy'])\n"
   ]
  },
  {
   "cell_type": "markdown",
   "metadata": {},
   "source": [
    "# Setting aside a validation set"
   ]
  },
  {
   "cell_type": "code",
   "execution_count": 15,
   "metadata": {},
   "outputs": [],
   "source": [
    "x_val = x_train[:1000]\n",
    "partial_x_train = x_train[1000:]\n",
    "y_val = one_hot_train_labels[:1000] \n",
    "partial_y_train = one_hot_train_labels[1000:]\n"
   ]
  },
  {
   "cell_type": "markdown",
   "metadata": {},
   "source": [
    "# Training the model"
   ]
  },
  {
   "cell_type": "code",
   "execution_count": 16,
   "metadata": {},
   "outputs": [
    {
     "name": "stdout",
     "output_type": "stream",
     "text": [
      "WARNING:tensorflow:From C:\\Users\\aqadi\\Anaconda3\\lib\\site-packages\\tensorflow\\python\\ops\\math_ops.py:3066: to_int32 (from tensorflow.python.ops.math_ops) is deprecated and will be removed in a future version.\n",
      "Instructions for updating:\n",
      "Use tf.cast instead.\n",
      "Train on 7982 samples, validate on 1000 samples\n",
      "Epoch 1/20\n",
      "7982/7982 [==============================] - 5s 640us/step - loss: 3.8118 - acc: 0.0680 - val_loss: 3.7977 - val_acc: 0.0590\n",
      "Epoch 2/20\n",
      "7982/7982 [==============================] - 3s 326us/step - loss: 3.7880 - acc: 0.1054 - val_loss: 3.7768 - val_acc: 0.2230\n",
      "Epoch 3/20\n",
      "7982/7982 [==============================] - 3s 330us/step - loss: 3.7675 - acc: 0.2164 - val_loss: 3.7569 - val_acc: 0.2230\n",
      "Epoch 4/20\n",
      "7982/7982 [==============================] - 3s 347us/step - loss: 3.7476 - acc: 0.2164 - val_loss: 3.7371 - val_acc: 0.2230\n",
      "Epoch 5/20\n",
      "7982/7982 [==============================] - 3s 338us/step - loss: 3.7279 - acc: 0.2313 - val_loss: 3.7176 - val_acc: 0.2230\n",
      "Epoch 6/20\n",
      "7982/7982 [==============================] - 3s 336us/step - loss: 3.7084 - acc: 0.2245 - val_loss: 3.6981 - val_acc: 0.3540\n",
      "Epoch 7/20\n",
      "7982/7982 [==============================] - 3s 331us/step - loss: 3.6889 - acc: 0.2278 - val_loss: 3.6788 - val_acc: 0.3540\n",
      "Epoch 8/20\n",
      "7982/7982 [==============================] - 3s 353us/step - loss: 3.6696 - acc: 0.3183 - val_loss: 3.6596 - val_acc: 0.2230\n",
      "Epoch 9/20\n",
      "7982/7982 [==============================] - 3s 349us/step - loss: 3.6504 - acc: 0.2350 - val_loss: 3.6406 - val_acc: 0.3540\n",
      "Epoch 10/20\n",
      "7982/7982 [==============================] - 3s 352us/step - loss: 3.6314 - acc: 0.3365 - val_loss: 3.6217 - val_acc: 0.3540\n",
      "Epoch 11/20\n",
      "7982/7982 [==============================] - 3s 352us/step - loss: 3.6126 - acc: 0.3027 - val_loss: 3.6031 - val_acc: 0.3540\n",
      "Epoch 12/20\n",
      "7982/7982 [==============================] - 3s 340us/step - loss: 3.5939 - acc: 0.3514 - val_loss: 3.5845 - val_acc: 0.3540\n",
      "Epoch 13/20\n",
      "7982/7982 [==============================] - 3s 343us/step - loss: 3.5754 - acc: 0.3514 - val_loss: 3.5661 - val_acc: 0.3540\n",
      "Epoch 14/20\n",
      "7982/7982 [==============================] - 3s 338us/step - loss: 3.5570 - acc: 0.3409 - val_loss: 3.5479 - val_acc: 0.3540\n",
      "Epoch 15/20\n",
      "7982/7982 [==============================] - 3s 340us/step - loss: 3.5388 - acc: 0.3406 - val_loss: 3.5298 - val_acc: 0.3540\n",
      "Epoch 16/20\n",
      "7982/7982 [==============================] - 3s 332us/step - loss: 3.5207 - acc: 0.3514 - val_loss: 3.5117 - val_acc: 0.3540\n",
      "Epoch 17/20\n",
      "7982/7982 [==============================] - 3s 332us/step - loss: 3.5028 - acc: 0.3514 - val_loss: 3.4939 - val_acc: 0.3540\n",
      "Epoch 18/20\n",
      "7982/7982 [==============================] - 3s 340us/step - loss: 3.4850 - acc: 0.3514 - val_loss: 3.4762 - val_acc: 0.3540\n",
      "Epoch 19/20\n",
      "7982/7982 [==============================] - 3s 331us/step - loss: 3.4675 - acc: 0.3514 - val_loss: 3.4589 - val_acc: 0.3540\n",
      "Epoch 20/20\n",
      "7982/7982 [==============================] - 3s 341us/step - loss: 3.4501 - acc: 0.3514 - val_loss: 3.4414 - val_acc: 0.3540\n"
     ]
    }
   ],
   "source": [
    "history = model.fit(partial_x_train, partial_y_train, epochs=20, batch_size=512, validation_data=(x_val, y_val))\n"
   ]
  },
  {
   "cell_type": "markdown",
   "metadata": {},
   "source": [
    "#  Plotting the training and validation loss"
   ]
  },
  {
   "cell_type": "code",
   "execution_count": 37,
   "metadata": {},
   "outputs": [
    {
     "data": {
      "image/png": "[encoded data removed]",
      "text/plain": [
       "<Figure size 432x288 with 1 Axes>"
      ]
     },
     "metadata": {
      "needs_background": "light"
     },
     "output_type": "display_data"
    }
   ],
   "source": [
    "import matplotlib.pyplot as plt\n",
    "loss = history.history['loss'] \n",
    "val_loss = history.history['val_loss']\n",
    "epochs = range(1, len(loss) + 1)\n",
    "plt.plot(epochs, loss, 'bo', label='Training loss')\n",
    "plt.plot(epochs, val_loss, 'b', label='Validation loss') \n",
    "plt.title('Training and validation loss') \n",
    "plt.xlabel('Epochs')\n",
    "plt.ylabel('Loss') \n",
    "plt.legend()\n",
    "plt.show()"
   ]
  },
  {
   "cell_type": "markdown",
   "metadata": {},
   "source": [
    "# Plotting the training and validation accuracy"
   ]
  },
  {
   "cell_type": "code",
   "execution_count": 18,
   "metadata": {},
   "outputs": [
    {
     "data": {
      "image/png": "[encoded data removed]",
      "text/plain": [
       "<Figure size 432x288 with 1 Axes>"
      ]
     },
     "metadata": {
      "needs_background": "light"
     },
     "output_type": "display_data"
    }
   ],
   "source": [
    "plt.clf()\n",
    "acc = history.history['acc'] \n",
    "val_acc = history.history['val_acc']\n",
    "plt.plot(epochs, acc, 'bo', label='Training acc')\n",
    "plt.plot(epochs, val_acc, 'b', label='Validation acc') \n",
    "plt.title('Training and validation accuracy')\n",
    "plt.xlabel('Epochs') \n",
    "plt.ylabel('Loss') \n",
    "plt.legend()\n",
    "plt.show()\n"
   ]
  },
  {
   "cell_type": "markdown",
   "metadata": {},
   "source": [
    "# Retraining a model from scratch"
   ]
  },
  {
   "cell_type": "code",
   "execution_count": 20,
   "metadata": {},
   "outputs": [
    {
     "name": "stdout",
     "output_type": "stream",
     "text": [
      "Train on 7982 samples, validate on 1000 samples\n",
      "Epoch 1/9\n",
      "7982/7982 [==============================] - 4s 482us/step - loss: 3.8119 - acc: 0.2098 - val_loss: 3.7979 - val_acc: 0.3530\n",
      "Epoch 2/9\n",
      "7982/7982 [==============================] - 3s 346us/step - loss: 3.7881 - acc: 0.3514 - val_loss: 3.7769 - val_acc: 0.3530\n",
      "Epoch 3/9\n",
      "7982/7982 [==============================] - 3s 344us/step - loss: 3.7676 - acc: 0.3514 - val_loss: 3.7570 - val_acc: 0.3530\n",
      "Epoch 4/9\n",
      "7982/7982 [==============================] - 3s 340us/step - loss: 3.7477 - acc: 0.3514 - val_loss: 3.7373 - val_acc: 0.3530\n",
      "Epoch 5/9\n",
      "7982/7982 [==============================] - 3s 344us/step - loss: 3.7280 - acc: 0.3514 - val_loss: 3.7177 - val_acc: 0.3530\n",
      "Epoch 6/9\n",
      "7982/7982 [==============================] - 3s 339us/step - loss: 3.7085 - acc: 0.3514 - val_loss: 3.6983 - val_acc: 0.3530\n",
      "Epoch 7/9\n",
      "7982/7982 [==============================] - 3s 353us/step - loss: 3.6891 - acc: 0.3514 - val_loss: 3.6790 - val_acc: 0.3530\n",
      "Epoch 8/9\n",
      "7982/7982 [==============================] - 3s 335us/step - loss: 3.6698 - acc: 0.3514 - val_loss: 3.6599 - val_acc: 0.3540\n",
      "Epoch 9/9\n",
      "7982/7982 [==============================] - 3s 342us/step - loss: 3.6506 - acc: 0.3514 - val_loss: 3.6409 - val_acc: 0.3540\n",
      "2246/2246 [==============================] - 1s 393us/step\n"
     ]
    }
   ],
   "source": [
    "model = models.Sequential() \n",
    "model.add(layers.Dense(64, activation='relu', input_shape=(10000,)))\n",
    "model.add(layers.Dense(64, activation='relu')) \n",
    "model.add(layers.Dense(46, activation='softmax'))\n",
    "model.compile(optimizer='rmsprop', loss='categorical_crossentropy', metrics=['accuracy']) \n",
    "model.fit(partial_x_train, partial_y_train, epochs=9, batch_size=512, validation_data=(x_val, y_val)) \n",
    "results = model.evaluate(x_test, one_hot_test_labels)\n"
   ]
  },
  {
   "cell_type": "code",
   "execution_count": 21,
   "metadata": {},
   "outputs": [
    {
     "data": {
      "text/plain": [
       "[3.6431239893260217, 0.36197684778237277]"
      ]
     },
     "execution_count": 21,
     "metadata": {},
     "output_type": "execute_result"
    }
   ],
   "source": [
    "results"
   ]
  },
  {
   "cell_type": "markdown",
   "metadata": {},
   "source": [
    "# A different way to handle the labels and the loss "
   ]
  },
  {
   "cell_type": "code",
   "execution_count": 22,
   "metadata": {},
   "outputs": [
    {
     "data": {
      "text/plain": [
       "0.182546749777382"
      ]
     },
     "execution_count": 22,
     "metadata": {},
     "output_type": "execute_result"
    }
   ],
   "source": [
    "import copy \n",
    "test_labels_copy = copy.copy(test_labels) \n",
    "np.random.shuffle(test_labels_copy) \n",
    "hits_array = np.array(test_labels) == np.array(test_labels_copy)  \n",
    "float(np.sum(hits_array)) / len(test_labels) "
   ]
  },
  {
   "cell_type": "code",
   "execution_count": 23,
   "metadata": {},
   "outputs": [],
   "source": [
    "y_train = np.array(train_labels) \n",
    "y_test = np.array(test_labels)\n"
   ]
  },
  {
   "cell_type": "code",
   "execution_count": 24,
   "metadata": {},
   "outputs": [],
   "source": [
    "model.compile(optimizer='rmsprop', loss='sparse_categorical_crossentropy', metrics=['acc'])"
   ]
  },
  {
   "cell_type": "code",
   "execution_count": 26,
   "metadata": {},
   "outputs": [
    {
     "name": "stdout",
     "output_type": "stream",
     "text": [
      "Train on 7982 samples, validate on 1000 samples\n",
      "Epoch 1/20\n",
      "7982/7982 [==============================] - 5s 583us/step - loss: 3.7812 - acc: 0.1550 - val_loss: 3.7413 - val_acc: 0.3530\n",
      "Epoch 2/20\n",
      "7982/7982 [==============================] - 3s 416us/step - loss: 3.7055 - acc: 0.3242 - val_loss: 3.6679 - val_acc: 0.3530\n",
      "Epoch 3/20\n",
      "7982/7982 [==============================] - 3s 428us/step - loss: 3.6325 - acc: 0.3482 - val_loss: 3.5961 - val_acc: 0.3540\n",
      "Epoch 4/20\n",
      "7982/7982 [==============================] - 3s 425us/step - loss: 3.5619 - acc: 0.3514 - val_loss: 3.5265 - val_acc: 0.3540\n",
      "Epoch 5/20\n",
      "7982/7982 [==============================] - 3s 426us/step - loss: 3.4935 - acc: 0.3514 - val_loss: 3.4591 - val_acc: 0.3540\n",
      "Epoch 6/20\n",
      "7982/7982 [==============================] - 3s 427us/step - loss: 3.4276 - acc: 0.3514 - val_loss: 3.3941 - val_acc: 0.3540\n",
      "Epoch 7/20\n",
      "7982/7982 [==============================] - 4s 445us/step - loss: 3.3633 - acc: 0.3514 - val_loss: 3.3309 - val_acc: 0.3540\n",
      "Epoch 8/20\n",
      "7982/7982 [==============================] - 3s 430us/step - loss: 3.3015 - acc: 0.3514 - val_loss: 3.2700 - val_acc: 0.3540\n",
      "Epoch 9/20\n",
      "7982/7982 [==============================] - 3s 433us/step - loss: 3.2418 - acc: 0.3514 - val_loss: 3.2110 - val_acc: 0.3540\n",
      "Epoch 10/20\n",
      "7982/7982 [==============================] - 3s 431us/step - loss: 3.1845 - acc: 0.3514 - val_loss: 3.1544 - val_acc: 0.3540\n",
      "Epoch 11/20\n",
      "7982/7982 [==============================] - 4s 447us/step - loss: 3.1289 - acc: 0.3514 - val_loss: 3.0996 - val_acc: 0.3540\n",
      "Epoch 12/20\n",
      "7982/7982 [==============================] - 4s 440us/step - loss: 3.0759 - acc: 0.3514 - val_loss: 3.0473 - val_acc: 0.3540\n",
      "Epoch 13/20\n",
      "7982/7982 [==============================] - 3s 427us/step - loss: 3.0246 - acc: 0.3514 - val_loss: 2.9963 - val_acc: 0.3540\n",
      "Epoch 14/20\n",
      "7982/7982 [==============================] - 3s 426us/step - loss: 2.9753 - acc: 0.3514 - val_loss: 2.9479 - val_acc: 0.3540\n",
      "Epoch 15/20\n",
      "7982/7982 [==============================] - 3s 423us/step - loss: 2.9283 - acc: 0.3514 - val_loss: 2.9013 - val_acc: 0.3540\n",
      "Epoch 16/20\n",
      "7982/7982 [==============================] - 3s 430us/step - loss: 2.8836 - acc: 0.3514 - val_loss: 2.8570 - val_acc: 0.3540\n",
      "Epoch 17/20\n",
      "7982/7982 [==============================] - 3s 438us/step - loss: 2.8406 - acc: 0.3514 - val_loss: 2.8144 - val_acc: 0.3540\n",
      "Epoch 18/20\n",
      "7982/7982 [==============================] - 3s 437us/step - loss: 2.7999 - acc: 0.3514 - val_loss: 2.7743 - val_acc: 0.3540\n",
      "Epoch 19/20\n",
      "7982/7982 [==============================] - 3s 426us/step - loss: 2.7611 - acc: 0.3514 - val_loss: 2.7361 - val_acc: 0.3540\n",
      "Epoch 20/20\n",
      "7982/7982 [==============================] - 3s 432us/step - loss: 2.7249 - acc: 0.3514 - val_loss: 2.7005 - val_acc: 0.3540\n"
     ]
    },
    {
     "data": {
      "text/plain": [
       "<keras.callbacks.History at 0x2065754c048>"
      ]
     },
     "execution_count": 26,
     "metadata": {},
     "output_type": "execute_result"
    }
   ],
   "source": [
    "model = models.Sequential()\n",
    "model.add(layers.Dense(64, activation='relu', input_shape=(10000,)))\n",
    "model.add(layers.Dense(4, activation='relu')) \n",
    "model.add(layers.Dense(46, activation='softmax'))\n",
    "model.compile(optimizer='rmsprop', loss='categorical_crossentropy', metrics=['accuracy'])\n",
    "model.fit(partial_x_train, partial_y_train, epochs=20, batch_size=128, validation_data=(x_val, y_val))\n"
   ]
  },
  {
   "cell_type": "code",
   "execution_count": 27,
   "metadata": {},
   "outputs": [
    {
     "data": {
      "text/plain": [
       "[3.6431239893260217, 0.36197684778237277]"
      ]
     },
     "execution_count": 27,
     "metadata": {},
     "output_type": "execute_result"
    }
   ],
   "source": [
    "results"
   ]
  },
  {
   "cell_type": "markdown",
   "metadata": {},
   "source": [
    "# Generating predictions for new data"
   ]
  },
  {
   "cell_type": "code",
   "execution_count": 28,
   "metadata": {},
   "outputs": [],
   "source": [
    "predictions = model.predict(x_test)"
   ]
  },
  {
   "cell_type": "code",
   "execution_count": 29,
   "metadata": {},
   "outputs": [
    {
     "data": {
      "text/plain": [
       "(46,)"
      ]
     },
     "execution_count": 29,
     "metadata": {},
     "output_type": "execute_result"
    }
   ],
   "source": [
    "predictions[0].shape"
   ]
  },
  {
   "cell_type": "code",
   "execution_count": 30,
   "metadata": {},
   "outputs": [
    {
     "data": {
      "text/plain": [
       "1.0000001"
      ]
     },
     "execution_count": 30,
     "metadata": {},
     "output_type": "execute_result"
    }
   ],
   "source": [
    "np.sum(predictions[0])"
   ]
  },
  {
   "cell_type": "code",
   "execution_count": 31,
   "metadata": {},
   "outputs": [
    {
     "data": {
      "text/plain": [
       "3"
      ]
     },
     "execution_count": 31,
     "metadata": {},
     "output_type": "execute_result"
    }
   ],
   "source": [
    "np.argmax(predictions[0])"
   ]
  },
  {
   "cell_type": "code",
   "execution_count": null,
   "metadata": {},
   "outputs": [],
   "source": []
  }
 ],
 "metadata": {
  "kernelspec": {
   "display_name": "Python 3",
   "language": "python",
   "name": "python3"
  },
  "language_info": {
   "codemirror_mode": {
    "name": "ipython",
    "version": 3
   },
   "file_extension": ".py",
   "mimetype": "text/x-python",
   "name": "python",
   "nbconvert_exporter": "python",
   "pygments_lexer": "ipython3",
   "version": "3.7.3"
  }
 },
 "nbformat": 4,
 "nbformat_minor": 2
}
