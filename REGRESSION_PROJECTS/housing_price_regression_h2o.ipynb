{
  "nbformat": 4,
  "nbformat_minor": 0,
  "metadata": {
    "colab": {
      "name": "housing price_regression_h2o.ipynb",
      "provenance": [],
      "authorship_tag": "ABX9TyMkaVUNi8elMmClvryotka3",
      "include_colab_link": true
    },
    "kernelspec": {
      "name": "python3",
      "display_name": "Python 3"
    }
  },
  "cells": [
    {
      "cell_type": "markdown",
      "metadata": {
        "id": "view-in-github",
        "colab_type": "text"
      },
      "source": [
        "<a href=\"https://colab.research.google.com/github/AQadir44/REGRESSION_PROJECTS/blob/master/housing_price_regression_h2o.ipynb\" target=\"_parent\"><img src=\"https://colab.research.google.com/assets/colab-badge.svg\" alt=\"Open In Colab\"/></a>"
      ]
    },
    {
      "cell_type": "code",
      "metadata": {
        "id": "_588ZR57QJU3",
        "colab_type": "code",
        "colab": {
          "base_uri": "https://localhost:8080/",
          "height": 326
        },
        "outputId": "9dc59a44-3c48-4628-a393-df81db81d4d1"
      },
      "source": [
        "! pip install h2o"
      ],
      "execution_count": 2,
      "outputs": [
        {
          "output_type": "stream",
          "text": [
            "Collecting h2o\n",
            "\u001b[?25l  Downloading https://files.pythonhosted.org/packages/ef/f5/23c0d33d0b4880cbb09327ba8bc0072d366bc80eada9122bd6758ef1d365/h2o-3.28.0.3.tar.gz (126.2MB)\n",
            "\u001b[K     |████████████████████████████████| 126.2MB 55kB/s \n",
            "\u001b[?25hRequirement already satisfied: requests in /usr/local/lib/python3.6/dist-packages (from h2o) (2.21.0)\n",
            "Requirement already satisfied: tabulate in /usr/local/lib/python3.6/dist-packages (from h2o) (0.8.6)\n",
            "Requirement already satisfied: future in /usr/local/lib/python3.6/dist-packages (from h2o) (0.16.0)\n",
            "Collecting colorama>=0.3.8\n",
            "  Downloading https://files.pythonhosted.org/packages/c9/dc/45cdef1b4d119eb96316b3117e6d5708a08029992b2fee2c143c7a0a5cc5/colorama-0.4.3-py2.py3-none-any.whl\n",
            "Requirement already satisfied: urllib3<1.25,>=1.21.1 in /usr/local/lib/python3.6/dist-packages (from requests->h2o) (1.24.3)\n",
            "Requirement already satisfied: certifi>=2017.4.17 in /usr/local/lib/python3.6/dist-packages (from requests->h2o) (2019.11.28)\n",
            "Requirement already satisfied: chardet<3.1.0,>=3.0.2 in /usr/local/lib/python3.6/dist-packages (from requests->h2o) (3.0.4)\n",
            "Requirement already satisfied: idna<2.9,>=2.5 in /usr/local/lib/python3.6/dist-packages (from requests->h2o) (2.8)\n",
            "Building wheels for collected packages: h2o\n",
            "  Building wheel for h2o (setup.py) ... \u001b[?25l\u001b[?25hdone\n",
            "  Created wheel for h2o: filename=h2o-3.28.0.3-py2.py3-none-any.whl size=126303006 sha256=15e0e936fc09aac7085178920bca67f55afb0250bb2420cd86a81a949c795e54\n",
            "  Stored in directory: /root/.cache/pip/wheels/fa/7c/ce/95ae52b4d3f1b14a27c3c961c1f94635aee841ab1eec3aeeca\n",
            "Successfully built h2o\n",
            "Installing collected packages: colorama, h2o\n",
            "Successfully installed colorama-0.4.3 h2o-3.28.0.3\n"
          ],
          "name": "stdout"
        }
      ]
    },
    {
      "cell_type": "code",
      "metadata": {
        "id": "xq-7Pb5bQYZY",
        "colab_type": "code",
        "colab": {
          "base_uri": "https://localhost:8080/",
          "height": 212
        },
        "outputId": "cb7e8535-9f23-49bd-f7d4-5bff2831fb86"
      },
      "source": [
        "! apt-get install default-jre\n",
        "!java -version"
      ],
      "execution_count": 3,
      "outputs": [
        {
          "output_type": "stream",
          "text": [
            "Reading package lists... Done\n",
            "Building dependency tree       \n",
            "Reading state information... Done\n",
            "default-jre is already the newest version (2:1.11-68ubuntu1~18.04.1).\n",
            "default-jre set to manually installed.\n",
            "The following package was automatically installed and is no longer required:\n",
            "  libnvidia-common-430\n",
            "Use 'apt autoremove' to remove it.\n",
            "0 upgraded, 0 newly installed, 0 to remove and 25 not upgraded.\n",
            "openjdk version \"11.0.6\" 2020-01-14\n",
            "OpenJDK Runtime Environment (build 11.0.6+10-post-Ubuntu-1ubuntu118.04.1)\n",
            "OpenJDK 64-Bit Server VM (build 11.0.6+10-post-Ubuntu-1ubuntu118.04.1, mixed mode, sharing)\n"
          ],
          "name": "stdout"
        }
      ]
    },
    {
      "cell_type": "code",
      "metadata": {
        "id": "EvJgQJWO5qth",
        "colab_type": "code",
        "colab": {}
      },
      "source": [
        "import numpy as np    # linear algebra\n",
        "import pandas as pd "
      ],
      "execution_count": 0,
      "outputs": []
    },
    {
      "cell_type": "code",
      "metadata": {
        "id": "C8ZuvEk-PqO9",
        "colab_type": "code",
        "colab": {}
      },
      "source": [
        "import h2o as h\n",
        "from h2o.estimators import H2OXGBoostEstimator\n",
        "from h2o.estimators import H2ORandomForestEstimator"
      ],
      "execution_count": 0,
      "outputs": []
    },
    {
      "cell_type": "code",
      "metadata": {
        "id": "Vhd1BbzJ5ta_",
        "colab_type": "code",
        "colab": {
          "base_uri": "https://localhost:8080/",
          "height": 326
        },
        "outputId": "c366b7df-1f56-4212-f4c8-de8a1c401344"
      },
      "source": [
        "## Import the dataset\n",
        "\n",
        "train = pd.read_csv(\"../content/train.csv\")\n",
        "test = pd.read_csv(\"../content/test.csv\")\n",
        "test_original = test\n",
        "print(train.shape)\n",
        "print(train.columns)"
      ],
      "execution_count": 61,
      "outputs": [
        {
          "output_type": "stream",
          "text": [
            "(1460, 81)\n",
            "Index(['Id', 'MSSubClass', 'MSZoning', 'LotFrontage', 'LotArea', 'Street',\n",
            "       'Alley', 'LotShape', 'LandContour', 'Utilities', 'LotConfig',\n",
            "       'LandSlope', 'Neighborhood', 'Condition1', 'Condition2', 'BldgType',\n",
            "       'HouseStyle', 'OverallQual', 'OverallCond', 'YearBuilt', 'YearRemodAdd',\n",
            "       'RoofStyle', 'RoofMatl', 'Exterior1st', 'Exterior2nd', 'MasVnrType',\n",
            "       'MasVnrArea', 'ExterQual', 'ExterCond', 'Foundation', 'BsmtQual',\n",
            "       'BsmtCond', 'BsmtExposure', 'BsmtFinType1', 'BsmtFinSF1',\n",
            "       'BsmtFinType2', 'BsmtFinSF2', 'BsmtUnfSF', 'TotalBsmtSF', 'Heating',\n",
            "       'HeatingQC', 'CentralAir', 'Electrical', '1stFlrSF', '2ndFlrSF',\n",
            "       'LowQualFinSF', 'GrLivArea', 'BsmtFullBath', 'BsmtHalfBath', 'FullBath',\n",
            "       'HalfBath', 'BedroomAbvGr', 'KitchenAbvGr', 'KitchenQual',\n",
            "       'TotRmsAbvGrd', 'Functional', 'Fireplaces', 'FireplaceQu', 'GarageType',\n",
            "       'GarageYrBlt', 'GarageFinish', 'GarageCars', 'GarageArea', 'GarageQual',\n",
            "       'GarageCond', 'PavedDrive', 'WoodDeckSF', 'OpenPorchSF',\n",
            "       'EnclosedPorch', '3SsnPorch', 'ScreenPorch', 'PoolArea', 'PoolQC',\n",
            "       'Fence', 'MiscFeature', 'MiscVal', 'MoSold', 'YrSold', 'SaleType',\n",
            "       'SaleCondition', 'SalePrice'],\n",
            "      dtype='object')\n"
          ],
          "name": "stdout"
        }
      ]
    },
    {
      "cell_type": "code",
      "metadata": {
        "id": "Oj_HgPiL5tJS",
        "colab_type": "code",
        "colab": {
          "base_uri": "https://localhost:8080/",
          "height": 781
        },
        "outputId": "9dd2d095-5ad5-4dc5-94c8-6833ebe54e81"
      },
      "source": [
        "## Clean the dataset\n",
        "\n",
        "\n",
        "\n",
        "# Identify the columns containing NA values in both train and test dataset\n",
        "train.isnull().sum().sort_values(ascending = False)\n",
        "test.isnull().sum().sort_values(ascending = False)\n",
        "# Remove the columns which contain NA with more than 100 rows\n",
        "train.drop( ['PoolQC', 'MiscFeature','Alley','Fence','FireplaceQu','LotFrontage'], inplace = True, axis = 'columns')\n",
        "test.drop( ['PoolQC', 'MiscFeature','Alley','Fence','FireplaceQu','LotFrontage'], inplace = True, axis = 'columns')\n",
        "print(train.shape)\n",
        "print(test.shape)\n",
        "# Identify the columns which contain numeric values\n",
        "train_numericCol = train.select_dtypes(include=[np.number]).columns.values\n",
        "print(train_numericCol)\n",
        "# Fill missing values in the numeric columns.\n",
        "train.fillna(train.mean(),inplace = True)\n",
        "test.fillna(test.mean(),inplace = True)\n",
        "# check if still any NA's are available in the numerical coulumns of train data\n",
        "train[train_numericCol].isnull().sum().sort_values(ascending = False)"
      ],
      "execution_count": 62,
      "outputs": [
        {
          "output_type": "stream",
          "text": [
            "(1460, 75)\n",
            "(1459, 74)\n",
            "['Id' 'MSSubClass' 'LotArea' 'OverallQual' 'OverallCond' 'YearBuilt'\n",
            " 'YearRemodAdd' 'MasVnrArea' 'BsmtFinSF1' 'BsmtFinSF2' 'BsmtUnfSF'\n",
            " 'TotalBsmtSF' '1stFlrSF' '2ndFlrSF' 'LowQualFinSF' 'GrLivArea'\n",
            " 'BsmtFullBath' 'BsmtHalfBath' 'FullBath' 'HalfBath' 'BedroomAbvGr'\n",
            " 'KitchenAbvGr' 'TotRmsAbvGrd' 'Fireplaces' 'GarageYrBlt' 'GarageCars'\n",
            " 'GarageArea' 'WoodDeckSF' 'OpenPorchSF' 'EnclosedPorch' '3SsnPorch'\n",
            " 'ScreenPorch' 'PoolArea' 'MiscVal' 'MoSold' 'YrSold' 'SalePrice']\n"
          ],
          "name": "stdout"
        },
        {
          "output_type": "execute_result",
          "data": {
            "text/plain": [
              "SalePrice        0\n",
              "BsmtHalfBath     0\n",
              "GrLivArea        0\n",
              "LowQualFinSF     0\n",
              "2ndFlrSF         0\n",
              "1stFlrSF         0\n",
              "TotalBsmtSF      0\n",
              "BsmtUnfSF        0\n",
              "BsmtFinSF2       0\n",
              "BsmtFinSF1       0\n",
              "MasVnrArea       0\n",
              "YearRemodAdd     0\n",
              "YearBuilt        0\n",
              "OverallCond      0\n",
              "OverallQual      0\n",
              "LotArea          0\n",
              "MSSubClass       0\n",
              "BsmtFullBath     0\n",
              "FullBath         0\n",
              "YrSold           0\n",
              "HalfBath         0\n",
              "MoSold           0\n",
              "MiscVal          0\n",
              "PoolArea         0\n",
              "ScreenPorch      0\n",
              "3SsnPorch        0\n",
              "EnclosedPorch    0\n",
              "OpenPorchSF      0\n",
              "WoodDeckSF       0\n",
              "GarageArea       0\n",
              "GarageCars       0\n",
              "GarageYrBlt      0\n",
              "Fireplaces       0\n",
              "TotRmsAbvGrd     0\n",
              "KitchenAbvGr     0\n",
              "BedroomAbvGr     0\n",
              "Id               0\n",
              "dtype: int64"
            ]
          },
          "metadata": {
            "tags": []
          },
          "execution_count": 62
        }
      ]
    },
    {
      "cell_type": "code",
      "metadata": {
        "id": "8WXhBlzeQHLx",
        "colab_type": "code",
        "colab": {
          "base_uri": "https://localhost:8080/",
          "height": 315
        },
        "outputId": "4c77885a-326b-4ab1-88d2-3818ace66d25"
      },
      "source": [
        "h.init()"
      ],
      "execution_count": 63,
      "outputs": [
        {
          "output_type": "stream",
          "text": [
            "Checking whether there is an H2O instance running at http://localhost:54321 . connected.\n"
          ],
          "name": "stdout"
        },
        {
          "output_type": "display_data",
          "data": {
            "text/html": [
              "<div style=\"overflow:auto\"><table style=\"width:50%\"><tr><td>H2O cluster uptime:</td>\n",
              "<td>3 hours 0 mins</td></tr>\n",
              "<tr><td>H2O cluster timezone:</td>\n",
              "<td>Etc/UTC</td></tr>\n",
              "<tr><td>H2O data parsing timezone:</td>\n",
              "<td>UTC</td></tr>\n",
              "<tr><td>H2O cluster version:</td>\n",
              "<td>3.28.0.3</td></tr>\n",
              "<tr><td>H2O cluster version age:</td>\n",
              "<td>14 days, 19 hours and 52 minutes </td></tr>\n",
              "<tr><td>H2O cluster name:</td>\n",
              "<td>H2O_from_python_unknownUser_ni12em</td></tr>\n",
              "<tr><td>H2O cluster total nodes:</td>\n",
              "<td>1</td></tr>\n",
              "<tr><td>H2O cluster free memory:</td>\n",
              "<td>2.999 Gb</td></tr>\n",
              "<tr><td>H2O cluster total cores:</td>\n",
              "<td>2</td></tr>\n",
              "<tr><td>H2O cluster allowed cores:</td>\n",
              "<td>2</td></tr>\n",
              "<tr><td>H2O cluster status:</td>\n",
              "<td>locked, healthy</td></tr>\n",
              "<tr><td>H2O connection url:</td>\n",
              "<td>http://localhost:54321</td></tr>\n",
              "<tr><td>H2O connection proxy:</td>\n",
              "<td>{'http': None, 'https': None}</td></tr>\n",
              "<tr><td>H2O internal security:</td>\n",
              "<td>False</td></tr>\n",
              "<tr><td>H2O API Extensions:</td>\n",
              "<td>Amazon S3, XGBoost, Algos, AutoML, Core V3, TargetEncoder, Core V4</td></tr>\n",
              "<tr><td>Python version:</td>\n",
              "<td>3.6.9 final</td></tr></table></div>"
            ],
            "text/plain": [
              "--------------------------  ------------------------------------------------------------------\n",
              "H2O cluster uptime:         3 hours 0 mins\n",
              "H2O cluster timezone:       Etc/UTC\n",
              "H2O data parsing timezone:  UTC\n",
              "H2O cluster version:        3.28.0.3\n",
              "H2O cluster version age:    14 days, 19 hours and 52 minutes\n",
              "H2O cluster name:           H2O_from_python_unknownUser_ni12em\n",
              "H2O cluster total nodes:    1\n",
              "H2O cluster free memory:    2.999 Gb\n",
              "H2O cluster total cores:    2\n",
              "H2O cluster allowed cores:  2\n",
              "H2O cluster status:         locked, healthy\n",
              "H2O connection url:         http://localhost:54321\n",
              "H2O connection proxy:       {'http': None, 'https': None}\n",
              "H2O internal security:      False\n",
              "H2O API Extensions:         Amazon S3, XGBoost, Algos, AutoML, Core V3, TargetEncoder, Core V4\n",
              "Python version:             3.6.9 final\n",
              "--------------------------  ------------------------------------------------------------------"
            ]
          },
          "metadata": {
            "tags": []
          }
        }
      ]
    },
    {
      "cell_type": "code",
      "metadata": {
        "id": "_mR_BXCYxD0Y",
        "colab_type": "code",
        "colab": {
          "base_uri": "https://localhost:8080/",
          "height": 66
        },
        "outputId": "1009626b-067a-4ce5-f89b-6389bb6e09ee"
      },
      "source": [
        "## Convert data into h2o Frame\n",
        "\n",
        "\n",
        "train = h2o.H2OFrame(train)\n",
        "test = h2o.H2OFrame(test)\n",
        "test_original = h2o.H2OFrame(test_original)"
      ],
      "execution_count": 64,
      "outputs": [
        {
          "output_type": "stream",
          "text": [
            "Parse progress: |█████████████████████████████████████████████████████████| 100%\n",
            "Parse progress: |█████████████████████████████████████████████████████████| 100%\n",
            "Parse progress: |█████████████████████████████████████████████████████████| 100%\n"
          ],
          "name": "stdout"
        }
      ]
    },
    {
      "cell_type": "code",
      "metadata": {
        "id": "hbqzWSW16DKD",
        "colab_type": "code",
        "colab": {
          "base_uri": "https://localhost:8080/",
          "height": 1000
        },
        "outputId": "68834b1e-063a-4d37-b324-e3792852523d"
      },
      "source": [
        "# Split the train dataset\n",
        "train, valid, test = train.split_frame(ratios=[0.7, 0.15], seed=42)\n",
        "\n",
        "# Seperate the target data and store it into y variable\n",
        "y = 'SalePrice'\n",
        "Id = test['Id']\n",
        "\n",
        "# remove target and Id column from the dataset and store rest of the columns in X variable\n",
        "X = list(train.columns)\n",
        "X.remove(y)\n",
        "X.remove('Id')\n",
        "X"
      ],
      "execution_count": 65,
      "outputs": [
        {
          "output_type": "execute_result",
          "data": {
            "text/plain": [
              "['MSSubClass',\n",
              " 'MSZoning',\n",
              " 'LotArea',\n",
              " 'Street',\n",
              " 'LotShape',\n",
              " 'LandContour',\n",
              " 'Utilities',\n",
              " 'LotConfig',\n",
              " 'LandSlope',\n",
              " 'Neighborhood',\n",
              " 'Condition1',\n",
              " 'Condition2',\n",
              " 'BldgType',\n",
              " 'HouseStyle',\n",
              " 'OverallQual',\n",
              " 'OverallCond',\n",
              " 'YearBuilt',\n",
              " 'YearRemodAdd',\n",
              " 'RoofStyle',\n",
              " 'RoofMatl',\n",
              " 'Exterior1st',\n",
              " 'Exterior2nd',\n",
              " 'MasVnrType',\n",
              " 'MasVnrArea',\n",
              " 'ExterQual',\n",
              " 'ExterCond',\n",
              " 'Foundation',\n",
              " 'BsmtQual',\n",
              " 'BsmtCond',\n",
              " 'BsmtExposure',\n",
              " 'BsmtFinType1',\n",
              " 'BsmtFinSF1',\n",
              " 'BsmtFinType2',\n",
              " 'BsmtFinSF2',\n",
              " 'BsmtUnfSF',\n",
              " 'TotalBsmtSF',\n",
              " 'Heating',\n",
              " 'HeatingQC',\n",
              " 'CentralAir',\n",
              " 'Electrical',\n",
              " '1stFlrSF',\n",
              " '2ndFlrSF',\n",
              " 'LowQualFinSF',\n",
              " 'GrLivArea',\n",
              " 'BsmtFullBath',\n",
              " 'BsmtHalfBath',\n",
              " 'FullBath',\n",
              " 'HalfBath',\n",
              " 'BedroomAbvGr',\n",
              " 'KitchenAbvGr',\n",
              " 'KitchenQual',\n",
              " 'TotRmsAbvGrd',\n",
              " 'Functional',\n",
              " 'Fireplaces',\n",
              " 'GarageType',\n",
              " 'GarageYrBlt',\n",
              " 'GarageFinish',\n",
              " 'GarageCars',\n",
              " 'GarageArea',\n",
              " 'GarageQual',\n",
              " 'GarageCond',\n",
              " 'PavedDrive',\n",
              " 'WoodDeckSF',\n",
              " 'OpenPorchSF',\n",
              " 'EnclosedPorch',\n",
              " '3SsnPorch',\n",
              " 'ScreenPorch',\n",
              " 'PoolArea',\n",
              " 'MiscVal',\n",
              " 'MoSold',\n",
              " 'YrSold',\n",
              " 'SaleType',\n",
              " 'SaleCondition']"
            ]
          },
          "metadata": {
            "tags": []
          },
          "execution_count": 65
        }
      ]
    },
    {
      "cell_type": "code",
      "metadata": {
        "id": "EIf_kwhP6MM4",
        "colab_type": "code",
        "colab": {}
      },
      "source": [
        "## H2o Machine Learning models\n",
        "\n",
        "#We will now perform training of the models using below H2o supervised algorithms\n",
        "\n",
        "\n",
        "#Gradient Boosting Machine (RF)\n",
        "\n",
        "#Random Forest (RF)\n",
        "\n",
        "#Deep Learning (DL)\n",
        "\n",
        "\n",
        "# Prepare the hyperparameters\n",
        "nfolds = 5\n",
        "rf_params = {\n",
        "                'max_depth': [3, 4,5],\n",
        "                'sample_rate': [0.8, 1.0],               # Row sample rate\n",
        "                'mtries' : [2,4,3]\n",
        "                }"
      ],
      "execution_count": 0,
      "outputs": []
    },
    {
      "cell_type": "code",
      "metadata": {
        "id": "h-21Mb_I6nEW",
        "colab_type": "code",
        "colab": {}
      },
      "source": [
        "from h2o.grid.grid_search import H2OGridSearch\n",
        " # Search criteria for parameter space\n",
        "search_criteria = {'strategy': \"RandomDiscrete\",\n",
        "                   \"seed\": 1,\n",
        "                   'stopping_metric': \"AUTO\",\n",
        "                   'stopping_tolerance': 0.0005\n",
        "                   }\n",
        "\n",
        "\n",
        "\n",
        "# Prepare the grid object\n",
        "rf_grid = H2OGridSearch(model=H2ORandomForestEstimator,   # Model to be trained\n",
        "                          grid_id='rf_grid',                  # Grid Search ID\n",
        "                          hyper_params=rf_params,              # Dictionary of parameters\n",
        "                          search_criteria=search_criteria,   # RandomDiscrete\n",
        "                          )\n",
        "                          "
      ],
      "execution_count": 0,
      "outputs": []
    },
    {
      "cell_type": "code",
      "metadata": {
        "id": "i29JJwp-61JM",
        "colab_type": "code",
        "colab": {
          "base_uri": "https://localhost:8080/",
          "height": 33
        },
        "outputId": "b93b47b7-95a6-4361-88e8-ad7018927ece"
      },
      "source": [
        "# Train the Model\n",
        "\n",
        "rf_grid.train(x=X,y=y, \n",
        "                training_frame=train,\n",
        "                validation_frame=valid,\n",
        "                ntrees=100,      \n",
        "                score_each_iteration=True,\n",
        "                nfolds = nfolds,\n",
        "                fold_assignment= \"Modulo\",\n",
        "                seed=1\n",
        "                )\n",
        "\n",
        "\n"
      ],
      "execution_count": 73,
      "outputs": [
        {
          "output_type": "stream",
          "text": [
            "drf Grid Build progress: |████████████████████████████████████████████████| 100%\n"
          ],
          "name": "stdout"
        }
      ]
    },
    {
      "cell_type": "code",
      "metadata": {
        "id": "qxC4ObUl7R2F",
        "colab_type": "code",
        "colab": {
          "base_uri": "https://localhost:8080/",
          "height": 326
        },
        "outputId": "63ba4b5a-827c-436d-d76d-a736ba2dbcc8"
      },
      "source": [
        "# Find the Model performance \n",
        "rf_gridperf = rf_grid.get_grid(sort_by='RMSE',decreasing = False)\n",
        "rf_gridperf"
      ],
      "execution_count": 74,
      "outputs": [
        {
          "output_type": "stream",
          "text": [
            "     max_depth mtries sample_rate         model_ids                rmse\n",
            "0            5      4         0.8   rf_grid_model_7    36218.4543011059\n",
            "1            5      4         1.0   rf_grid_model_3  36322.701651330164\n",
            "2            5      3         1.0   rf_grid_model_8   37957.18816271537\n",
            "3            5      3         0.8  rf_grid_model_17   38056.94220517328\n",
            "4            4      4         1.0  rf_grid_model_10   38965.50780705376\n",
            "5            4      4         0.8   rf_grid_model_4   39131.66835440497\n",
            "6            4      3         0.8  rf_grid_model_13  40918.251546480074\n",
            "7            4      3         1.0   rf_grid_model_6   41025.15395980535\n",
            "8            5      2         1.0   rf_grid_model_9   41256.15075160859\n",
            "9            5      2         0.8  rf_grid_model_18    41383.2796039889\n",
            "10           3      4         1.0  rf_grid_model_14   43065.61022488983\n",
            "11           3      4         0.8   rf_grid_model_1   43182.28901524526\n",
            "12           4      2         1.0   rf_grid_model_5   44342.47657480809\n",
            "13           4      2         0.8  rf_grid_model_12  44535.067178047866\n",
            "14           3      3         0.8   rf_grid_model_2   45187.81989286163\n",
            "15           3      3         1.0  rf_grid_model_16  45394.577197854516\n",
            "16           3      2         0.8  rf_grid_model_11  49181.739424267296\n",
            "17           3      2         1.0  rf_grid_model_15   49281.82323907645\n"
          ],
          "name": "stdout"
        },
        {
          "output_type": "execute_result",
          "data": {
            "text/plain": [
              ""
            ]
          },
          "metadata": {
            "tags": []
          },
          "execution_count": 74
        }
      ]
    },
    {
      "cell_type": "code",
      "metadata": {
        "id": "bBI-z2Al9bNF",
        "colab_type": "code",
        "colab": {}
      },
      "source": [
        "best_rf_model = rf_gridperf.models[0]\n",
        "best_rf_model\n",
        "best_rf_perf = best_rf_model.model_performance(test)   # Random Forest Model"
      ],
      "execution_count": 0,
      "outputs": []
    },
    {
      "cell_type": "code",
      "metadata": {
        "id": "753xNutr9pmq",
        "colab_type": "code",
        "colab": {
          "base_uri": "https://localhost:8080/",
          "height": 261
        },
        "outputId": "961c72e9-af88-4a36-b757-da569653f42e"
      },
      "source": [
        "rf_pred = best_rf_model.predict(test_original).as_data_frame()"
      ],
      "execution_count": 77,
      "outputs": [
        {
          "output_type": "stream",
          "text": [
            "drf prediction progress: |████████████████████████████████████████████████| 100%\n"
          ],
          "name": "stdout"
        },
        {
          "output_type": "stream",
          "text": [
            "/usr/local/lib/python3.6/dist-packages/h2o/job.py:70: UserWarning: Test/Validation dataset column 'MSZoning' has levels not trained on: [nan]\n",
            "  warnings.warn(w)\n",
            "/usr/local/lib/python3.6/dist-packages/h2o/job.py:70: UserWarning: Test/Validation dataset column 'Utilities' has levels not trained on: [nan]\n",
            "  warnings.warn(w)\n",
            "/usr/local/lib/python3.6/dist-packages/h2o/job.py:70: UserWarning: Test/Validation dataset column 'Exterior1st' has levels not trained on: [nan]\n",
            "  warnings.warn(w)\n",
            "/usr/local/lib/python3.6/dist-packages/h2o/job.py:70: UserWarning: Test/Validation dataset column 'Exterior2nd' has levels not trained on: [nan]\n",
            "  warnings.warn(w)\n",
            "/usr/local/lib/python3.6/dist-packages/h2o/job.py:70: UserWarning: Test/Validation dataset column 'KitchenQual' has levels not trained on: [nan]\n",
            "  warnings.warn(w)\n",
            "/usr/local/lib/python3.6/dist-packages/h2o/job.py:70: UserWarning: Test/Validation dataset column 'Functional' has levels not trained on: [nan]\n",
            "  warnings.warn(w)\n",
            "/usr/local/lib/python3.6/dist-packages/h2o/job.py:70: UserWarning: Test/Validation dataset column 'SaleType' has levels not trained on: [nan]\n",
            "  warnings.warn(w)\n"
          ],
          "name": "stderr"
        }
      ]
    },
    {
      "cell_type": "code",
      "metadata": {
        "id": "kOzW7cI-9-Br",
        "colab_type": "code",
        "colab": {}
      },
      "source": [
        "sub = pd.DataFrame()\n",
        "sub['Id'] = rf_pred.index + 1461\n",
        "sub['SalePrice'] = rf_pred\n",
        "sub.head()\n",
        "sub.to_csv('gbm_h2o1.csv', index=False)\n"
      ],
      "execution_count": 0,
      "outputs": []
    },
    {
      "cell_type": "code",
      "metadata": {
        "id": "P2MLoyG9-Ivg",
        "colab_type": "code",
        "colab": {}
      },
      "source": [
        ""
      ],
      "execution_count": 0,
      "outputs": []
    }
  ]
}