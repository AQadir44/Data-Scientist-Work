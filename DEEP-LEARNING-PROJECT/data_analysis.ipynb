{
  "nbformat": 4,
  "nbformat_minor": 0,
  "metadata": {
    "kernelspec": {
      "display_name": "Python 3",
      "language": "python",
      "name": "python3"
    },
    "language_info": {
      "codemirror_mode": {
        "name": "ipython",
        "version": 3
      },
      "file_extension": ".py",
      "mimetype": "text/x-python",
      "name": "python",
      "nbconvert_exporter": "python",
      "pygments_lexer": "ipython3",
      "version": "3.7.4"
    },
    "colab": {
      "name": "data analysis.ipynb",
      "provenance": [],
      "include_colab_link": true
    }
  },
  "cells": [
    {
      "cell_type": "markdown",
      "metadata": {
        "id": "view-in-github",
        "colab_type": "text"
      },
      "source": [
        "<a href=\"https://colab.research.google.com/github/AQadir44/DEEP-LEARNING/blob/master/data_analysis.ipynb\" target=\"_parent\"><img src=\"https://colab.research.google.com/assets/colab-badge.svg\" alt=\"Open In Colab\"/></a>"
      ]
    },
    {
      "cell_type": "code",
      "metadata": {
        "id": "odKOlLTZUTke",
        "colab_type": "code",
        "outputId": "e4785b82-cb06-44ed-b452-5b8e3cbba6fe",
        "colab": {
          "base_uri": "https://localhost:8080/",
          "height": 1000
        }
      },
      "source": [
        "!pip install tensorflow --upgrade\n",
        "import tensorflow\n",
        "import pandas as pd"
      ],
      "execution_count": 0,
      "outputs": [
        {
          "output_type": "stream",
          "text": [
            "Collecting tensorflow\n",
            "\u001b[?25l  Downloading https://files.pythonhosted.org/packages/85/d4/c0cd1057b331bc38b65478302114194bd8e1b9c2bbc06e300935c0e93d90/tensorflow-2.1.0-cp36-cp36m-manylinux2010_x86_64.whl (421.8MB)\n",
            "\u001b[K     |████████████████████████████████| 421.8MB 39kB/s \n",
            "\u001b[?25hRequirement already satisfied, skipping upgrade: absl-py>=0.7.0 in /usr/local/lib/python3.6/dist-packages (from tensorflow) (0.9.0)\n",
            "Requirement already satisfied, skipping upgrade: astor>=0.6.0 in /usr/local/lib/python3.6/dist-packages (from tensorflow) (0.8.1)\n",
            "Collecting tensorboard<2.2.0,>=2.1.0\n",
            "\u001b[?25l  Downloading https://files.pythonhosted.org/packages/40/23/53ffe290341cd0855d595b0a2e7485932f473798af173bbe3a584b99bb06/tensorboard-2.1.0-py3-none-any.whl (3.8MB)\n",
            "\u001b[K     |████████████████████████████████| 3.8MB 49.1MB/s \n",
            "\u001b[?25hCollecting tensorflow-estimator<2.2.0,>=2.1.0rc0\n",
            "\u001b[?25l  Downloading https://files.pythonhosted.org/packages/18/90/b77c328a1304437ab1310b463e533fa7689f4bfc41549593056d812fab8e/tensorflow_estimator-2.1.0-py2.py3-none-any.whl (448kB)\n",
            "\u001b[K     |████████████████████████████████| 450kB 63.2MB/s \n",
            "\u001b[?25hRequirement already satisfied, skipping upgrade: keras-applications>=1.0.8 in /usr/local/lib/python3.6/dist-packages (from tensorflow) (1.0.8)\n",
            "Requirement already satisfied, skipping upgrade: wheel>=0.26; python_version >= \"3\" in /usr/local/lib/python3.6/dist-packages (from tensorflow) (0.33.6)\n",
            "Requirement already satisfied, skipping upgrade: six>=1.12.0 in /usr/local/lib/python3.6/dist-packages (from tensorflow) (1.12.0)\n",
            "Requirement already satisfied, skipping upgrade: google-pasta>=0.1.6 in /usr/local/lib/python3.6/dist-packages (from tensorflow) (0.1.8)\n",
            "Requirement already satisfied, skipping upgrade: scipy==1.4.1; python_version >= \"3\" in /usr/local/lib/python3.6/dist-packages (from tensorflow) (1.4.1)\n",
            "Requirement already satisfied, skipping upgrade: protobuf>=3.8.0 in /usr/local/lib/python3.6/dist-packages (from tensorflow) (3.10.0)\n",
            "Requirement already satisfied, skipping upgrade: wrapt>=1.11.1 in /usr/local/lib/python3.6/dist-packages (from tensorflow) (1.11.2)\n",
            "Requirement already satisfied, skipping upgrade: grpcio>=1.8.6 in /usr/local/lib/python3.6/dist-packages (from tensorflow) (1.15.0)\n",
            "Requirement already satisfied, skipping upgrade: gast==0.2.2 in /usr/local/lib/python3.6/dist-packages (from tensorflow) (0.2.2)\n",
            "Requirement already satisfied, skipping upgrade: numpy<2.0,>=1.16.0 in /usr/local/lib/python3.6/dist-packages (from tensorflow) (1.17.5)\n",
            "Requirement already satisfied, skipping upgrade: opt-einsum>=2.3.2 in /usr/local/lib/python3.6/dist-packages (from tensorflow) (3.1.0)\n",
            "Requirement already satisfied, skipping upgrade: termcolor>=1.1.0 in /usr/local/lib/python3.6/dist-packages (from tensorflow) (1.1.0)\n",
            "Requirement already satisfied, skipping upgrade: keras-preprocessing>=1.1.0 in /usr/local/lib/python3.6/dist-packages (from tensorflow) (1.1.0)\n",
            "Requirement already satisfied, skipping upgrade: requests<3,>=2.21.0 in /usr/local/lib/python3.6/dist-packages (from tensorboard<2.2.0,>=2.1.0->tensorflow) (2.21.0)\n",
            "Requirement already satisfied, skipping upgrade: google-auth-oauthlib<0.5,>=0.4.1 in /usr/local/lib/python3.6/dist-packages (from tensorboard<2.2.0,>=2.1.0->tensorflow) (0.4.1)\n",
            "Requirement already satisfied, skipping upgrade: werkzeug>=0.11.15 in /usr/local/lib/python3.6/dist-packages (from tensorboard<2.2.0,>=2.1.0->tensorflow) (0.16.0)\n",
            "Collecting google-auth<2,>=1.6.3\n",
            "\u001b[?25l  Downloading https://files.pythonhosted.org/packages/8d/5f/a1a02695b96d0e09c38abf7d1576b137979cea3d060d60891622cf61276d/google_auth-1.10.1-py2.py3-none-any.whl (76kB)\n",
            "\u001b[K     |████████████████████████████████| 81kB 9.9MB/s \n",
            "\u001b[?25hRequirement already satisfied, skipping upgrade: setuptools>=41.0.0 in /usr/local/lib/python3.6/dist-packages (from tensorboard<2.2.0,>=2.1.0->tensorflow) (42.0.2)\n",
            "Requirement already satisfied, skipping upgrade: markdown>=2.6.8 in /usr/local/lib/python3.6/dist-packages (from tensorboard<2.2.0,>=2.1.0->tensorflow) (3.1.1)\n",
            "Requirement already satisfied, skipping upgrade: h5py in /usr/local/lib/python3.6/dist-packages (from keras-applications>=1.0.8->tensorflow) (2.8.0)\n",
            "Requirement already satisfied, skipping upgrade: idna<2.9,>=2.5 in /usr/local/lib/python3.6/dist-packages (from requests<3,>=2.21.0->tensorboard<2.2.0,>=2.1.0->tensorflow) (2.8)\n",
            "Requirement already satisfied, skipping upgrade: chardet<3.1.0,>=3.0.2 in /usr/local/lib/python3.6/dist-packages (from requests<3,>=2.21.0->tensorboard<2.2.0,>=2.1.0->tensorflow) (3.0.4)\n",
            "Requirement already satisfied, skipping upgrade: certifi>=2017.4.17 in /usr/local/lib/python3.6/dist-packages (from requests<3,>=2.21.0->tensorboard<2.2.0,>=2.1.0->tensorflow) (2019.11.28)\n",
            "Requirement already satisfied, skipping upgrade: urllib3<1.25,>=1.21.1 in /usr/local/lib/python3.6/dist-packages (from requests<3,>=2.21.0->tensorboard<2.2.0,>=2.1.0->tensorflow) (1.24.3)\n",
            "Requirement already satisfied, skipping upgrade: requests-oauthlib>=0.7.0 in /usr/local/lib/python3.6/dist-packages (from google-auth-oauthlib<0.5,>=0.4.1->tensorboard<2.2.0,>=2.1.0->tensorflow) (1.3.0)\n",
            "Requirement already satisfied, skipping upgrade: pyasn1-modules>=0.2.1 in /usr/local/lib/python3.6/dist-packages (from google-auth<2,>=1.6.3->tensorboard<2.2.0,>=2.1.0->tensorflow) (0.2.7)\n",
            "Requirement already satisfied, skipping upgrade: cachetools<5.0,>=2.0.0 in /usr/local/lib/python3.6/dist-packages (from google-auth<2,>=1.6.3->tensorboard<2.2.0,>=2.1.0->tensorflow) (4.0.0)\n",
            "Requirement already satisfied, skipping upgrade: rsa<4.1,>=3.1.4 in /usr/local/lib/python3.6/dist-packages (from google-auth<2,>=1.6.3->tensorboard<2.2.0,>=2.1.0->tensorflow) (4.0)\n",
            "Requirement already satisfied, skipping upgrade: oauthlib>=3.0.0 in /usr/local/lib/python3.6/dist-packages (from requests-oauthlib>=0.7.0->google-auth-oauthlib<0.5,>=0.4.1->tensorboard<2.2.0,>=2.1.0->tensorflow) (3.1.0)\n",
            "Requirement already satisfied, skipping upgrade: pyasn1<0.5.0,>=0.4.6 in /usr/local/lib/python3.6/dist-packages (from pyasn1-modules>=0.2.1->google-auth<2,>=1.6.3->tensorboard<2.2.0,>=2.1.0->tensorflow) (0.4.8)\n",
            "\u001b[31mERROR: tensorboard 2.1.0 has requirement grpcio>=1.24.3, but you'll have grpcio 1.15.0 which is incompatible.\u001b[0m\n",
            "\u001b[31mERROR: google-colab 1.0.0 has requirement google-auth~=1.4.0, but you'll have google-auth 1.10.1 which is incompatible.\u001b[0m\n",
            "Installing collected packages: google-auth, tensorboard, tensorflow-estimator, tensorflow\n",
            "  Found existing installation: google-auth 1.4.2\n",
            "    Uninstalling google-auth-1.4.2:\n",
            "      Successfully uninstalled google-auth-1.4.2\n",
            "  Found existing installation: tensorboard 1.15.0\n",
            "    Uninstalling tensorboard-1.15.0:\n",
            "      Successfully uninstalled tensorboard-1.15.0\n",
            "  Found existing installation: tensorflow-estimator 1.15.1\n",
            "    Uninstalling tensorflow-estimator-1.15.1:\n",
            "      Successfully uninstalled tensorflow-estimator-1.15.1\n",
            "  Found existing installation: tensorflow 1.15.0\n",
            "    Uninstalling tensorflow-1.15.0:\n",
            "      Successfully uninstalled tensorflow-1.15.0\n",
            "Successfully installed google-auth-1.10.1 tensorboard-2.1.0 tensorflow-2.1.0 tensorflow-estimator-2.1.0\n"
          ],
          "name": "stdout"
        },
        {
          "output_type": "display_data",
          "data": {
            "application/vnd.colab-display-data+json": {
              "pip_warning": {
                "packages": [
                  "google"
                ]
              }
            }
          },
          "metadata": {
            "tags": []
          }
        }
      ]
    },
    {
      "cell_type": "code",
      "metadata": {
        "id": "iBqyksLrUTk1",
        "colab_type": "code",
        "colab": {}
      },
      "source": [
        "#Column definitions:\n",
        "#R_ and B_ prefix signifies red and blue corner fighter stats respectively\n",
        "#_opp_ containing columns is the average of damage done by the opponent on the fighter\n",
        "#KD is number of knockdowns\n",
        "#SIG_STR is no. of significant strikes 'landed of attempted'\n",
        "#SIG_STR_pct is significant strikes percentage\n",
        "#TOTAL_STR is total strikes 'landed of attempted'\n",
        "#TD is no. of takedowns\n",
        "#TD_pct is takedown percentages\n",
        "#SUB_ATT is no. of submission attempts\n",
        "#PASS is no. times the guard was passed?\n",
        "#REV is the no. of Reversals landed\n",
        "#HEAD is no. of significant strinks to the head 'landed of attempted'\n",
        "#BODY is no. of significant strikes to the body 'landed of attempted'\n",
        "#CLINCH is no. of significant strikes in the clinch 'landed of attempted'\n",
        "#GROUND is no. of significant strikes on the ground 'landed of attempted'\n",
        "#win_by is method of win\n",
        "#last_round is last round of the fight (ex. if it was a KO in 1st, then this will be 1)\n",
        "#last_round_time is when the fight ended in the last round\n",
        "#Format is the format of the fight (3 rounds, 5 rounds etc.)\n",
        "#Referee is the name of the Ref\n",
        "#date is the date of the fight\n",
        "#location is the location in which the event took place\n",
        "#Fight_type is which weight class and whether it's a title bout or not\n",
        "#Winner is the winner of the fight\n",
        "#Stance is the stance of the fighter (orthodox, southpaw, etc.)\n",
        "#Height_cms is the height in centimeter\n",
        "#Reach_cms is the reach of the fighter (arm span) in centimeter\n",
        "#Weight_lbs is the weight of the fighter in pounds (lbs)\n",
        "#age is the age of the fighter\n",
        "#title_bout Boolean value of whether it is title fight or not\n",
        "#weight_class is which weight class the fight is in (Bantamweight, heavyweight, Women's flyweight, etc.)\n",
        "#no_of_rounds is the number of rounds the fight was scheduled for\n",
        "#current_lose_streak is the count of current concurrent losses of the fighter\n",
        "#current_win_streak is the count of current concurrent wins of the fighter\n",
        "#draw is the number of draws in the fighter's ufc career\n",
        "#wins is the number of wins in the fighter's ufc career\n",
        "#losses is the number of losses in the fighter's ufc career\n",
        "#total_rounds_fought is the average of total rounds fought by the fighter\n",
        "#total_time_fought(seconds) is the count of total time spent fighting in seconds\n",
        "#total_title_bouts is the total number of title bouts taken part in by the fighter\n",
        "#win_by_Decision_Majority is the number of wins by majority judges decision in the fighter's ufc career\n",
        "#win_by_Decision_Split is the number of wins by split judges decision in the fighter's ufc career\n",
        "#win_by_Decision_Unanimous is the number of wins by unanimous judges decision in the fighter's ufc career\n",
        "#win_by_KO/TKO is the number of wins by knockout in the fighter's ufc career\n",
        "#win_by_Submission is the number of wins by submission in the fighter's ufc career\n",
        "#win_by_TKO_Doctor_Stoppage is the number of wins by doctor stoppage in the fighter's ufc career'''"
      ],
      "execution_count": 0,
      "outputs": []
    },
    {
      "cell_type": "code",
      "metadata": {
        "id": "u0eKaLGVUTlJ",
        "colab_type": "code",
        "outputId": "1f923a72-8f45-4719-ecc7-b79877d4694e",
        "colab": {
          "base_uri": "https://localhost:8080/",
          "height": 797
        }
      },
      "source": [
        "data = pd.read_csv(\"raw_total_fight_data.csv\",sep=\";\")\n",
        "data"
      ],
      "execution_count": 0,
      "outputs": [
        {
          "output_type": "execute_result",
          "data": {
            "text/html": [
              "<div>\n",
              "<style scoped>\n",
              "    .dataframe tbody tr th:only-of-type {\n",
              "        vertical-align: middle;\n",
              "    }\n",
              "\n",
              "    .dataframe tbody tr th {\n",
              "        vertical-align: top;\n",
              "    }\n",
              "\n",
              "    .dataframe thead th {\n",
              "        text-align: right;\n",
              "    }\n",
              "</style>\n",
              "<table border=\"1\" class=\"dataframe\">\n",
              "  <thead>\n",
              "    <tr style=\"text-align: right;\">\n",
              "      <th></th>\n",
              "      <th>R_fighter</th>\n",
              "      <th>B_fighter</th>\n",
              "      <th>R_KD</th>\n",
              "      <th>B_KD</th>\n",
              "      <th>R_SIG_STR.</th>\n",
              "      <th>B_SIG_STR.</th>\n",
              "      <th>R_SIG_STR_pct</th>\n",
              "      <th>B_SIG_STR_pct</th>\n",
              "      <th>R_TOTAL_STR.</th>\n",
              "      <th>B_TOTAL_STR.</th>\n",
              "      <th>R_TD</th>\n",
              "      <th>B_TD</th>\n",
              "      <th>R_TD_pct</th>\n",
              "      <th>B_TD_pct</th>\n",
              "      <th>R_SUB_ATT</th>\n",
              "      <th>B_SUB_ATT</th>\n",
              "      <th>R_PASS</th>\n",
              "      <th>B_PASS</th>\n",
              "      <th>R_REV</th>\n",
              "      <th>B_REV</th>\n",
              "      <th>R_HEAD</th>\n",
              "      <th>B_HEAD</th>\n",
              "      <th>R_BODY</th>\n",
              "      <th>B_BODY</th>\n",
              "      <th>R_LEG</th>\n",
              "      <th>B_LEG</th>\n",
              "      <th>R_DISTANCE</th>\n",
              "      <th>B_DISTANCE</th>\n",
              "      <th>R_CLINCH</th>\n",
              "      <th>B_CLINCH</th>\n",
              "      <th>R_GROUND</th>\n",
              "      <th>B_GROUND</th>\n",
              "      <th>win_by</th>\n",
              "      <th>last_round</th>\n",
              "      <th>last_round_time</th>\n",
              "      <th>Format</th>\n",
              "      <th>Referee</th>\n",
              "      <th>date</th>\n",
              "      <th>location</th>\n",
              "      <th>Fight_type</th>\n",
              "      <th>Winner</th>\n",
              "    </tr>\n",
              "  </thead>\n",
              "  <tbody>\n",
              "    <tr>\n",
              "      <th>0</th>\n",
              "      <td>Henry Cejudo</td>\n",
              "      <td>Marlon Moraes</td>\n",
              "      <td>0</td>\n",
              "      <td>0</td>\n",
              "      <td>90 of 171</td>\n",
              "      <td>57 of 119</td>\n",
              "      <td>52%</td>\n",
              "      <td>47%</td>\n",
              "      <td>99 of 182</td>\n",
              "      <td>59 of 121</td>\n",
              "      <td>1 of 4</td>\n",
              "      <td>0 of 2</td>\n",
              "      <td>25%</td>\n",
              "      <td>0%</td>\n",
              "      <td>1</td>\n",
              "      <td>0</td>\n",
              "      <td>1</td>\n",
              "      <td>0</td>\n",
              "      <td>0</td>\n",
              "      <td>0</td>\n",
              "      <td>73 of 150</td>\n",
              "      <td>35 of 89</td>\n",
              "      <td>13 of 16</td>\n",
              "      <td>7 of 8</td>\n",
              "      <td>4 of 5</td>\n",
              "      <td>15 of 22</td>\n",
              "      <td>45 of 118</td>\n",
              "      <td>54 of 116</td>\n",
              "      <td>19 of 23</td>\n",
              "      <td>2 of 2</td>\n",
              "      <td>26 of 30</td>\n",
              "      <td>1 of 1</td>\n",
              "      <td>KO/TKO</td>\n",
              "      <td>3</td>\n",
              "      <td>4:51</td>\n",
              "      <td>5 Rnd (5-5-5-5-5)</td>\n",
              "      <td>Marc Goddard</td>\n",
              "      <td>June 08, 2019</td>\n",
              "      <td>Chicago, Illinois, USA</td>\n",
              "      <td>UFC Bantamweight Title Bout</td>\n",
              "      <td>Henry Cejudo</td>\n",
              "    </tr>\n",
              "    <tr>\n",
              "      <th>1</th>\n",
              "      <td>Valentina Shevchenko</td>\n",
              "      <td>Jessica Eye</td>\n",
              "      <td>1</td>\n",
              "      <td>0</td>\n",
              "      <td>8 of 11</td>\n",
              "      <td>2 of 12</td>\n",
              "      <td>72%</td>\n",
              "      <td>16%</td>\n",
              "      <td>37 of 40</td>\n",
              "      <td>42 of 52</td>\n",
              "      <td>2 of 2</td>\n",
              "      <td>0 of 0</td>\n",
              "      <td>100%</td>\n",
              "      <td>0%</td>\n",
              "      <td>1</td>\n",
              "      <td>0</td>\n",
              "      <td>3</td>\n",
              "      <td>0</td>\n",
              "      <td>0</td>\n",
              "      <td>0</td>\n",
              "      <td>4 of 5</td>\n",
              "      <td>0 of 7</td>\n",
              "      <td>4 of 6</td>\n",
              "      <td>0 of 2</td>\n",
              "      <td>0 of 0</td>\n",
              "      <td>2 of 3</td>\n",
              "      <td>5 of 8</td>\n",
              "      <td>2 of 12</td>\n",
              "      <td>2 of 2</td>\n",
              "      <td>0 of 0</td>\n",
              "      <td>1 of 1</td>\n",
              "      <td>0 of 0</td>\n",
              "      <td>KO/TKO</td>\n",
              "      <td>2</td>\n",
              "      <td>0:26</td>\n",
              "      <td>5 Rnd (5-5-5-5-5)</td>\n",
              "      <td>Robert Madrigal</td>\n",
              "      <td>June 08, 2019</td>\n",
              "      <td>Chicago, Illinois, USA</td>\n",
              "      <td>UFC Women's Flyweight Title Bout</td>\n",
              "      <td>Valentina Shevchenko</td>\n",
              "    </tr>\n",
              "    <tr>\n",
              "      <th>2</th>\n",
              "      <td>Tony Ferguson</td>\n",
              "      <td>Donald Cerrone</td>\n",
              "      <td>0</td>\n",
              "      <td>0</td>\n",
              "      <td>104 of 200</td>\n",
              "      <td>68 of 185</td>\n",
              "      <td>52%</td>\n",
              "      <td>36%</td>\n",
              "      <td>104 of 200</td>\n",
              "      <td>68 of 185</td>\n",
              "      <td>0 of 0</td>\n",
              "      <td>1 of 1</td>\n",
              "      <td>0%</td>\n",
              "      <td>100%</td>\n",
              "      <td>0</td>\n",
              "      <td>0</td>\n",
              "      <td>0</td>\n",
              "      <td>0</td>\n",
              "      <td>0</td>\n",
              "      <td>0</td>\n",
              "      <td>65 of 144</td>\n",
              "      <td>43 of 152</td>\n",
              "      <td>25 of 37</td>\n",
              "      <td>15 of 23</td>\n",
              "      <td>14 of 19</td>\n",
              "      <td>10 of 10</td>\n",
              "      <td>103 of 198</td>\n",
              "      <td>68 of 184</td>\n",
              "      <td>1 of 2</td>\n",
              "      <td>0 of 1</td>\n",
              "      <td>0 of 0</td>\n",
              "      <td>0 of 0</td>\n",
              "      <td>TKO - Doctor's Stoppage</td>\n",
              "      <td>2</td>\n",
              "      <td>5:00</td>\n",
              "      <td>3 Rnd (5-5-5)</td>\n",
              "      <td>Dan Miragliotta</td>\n",
              "      <td>June 08, 2019</td>\n",
              "      <td>Chicago, Illinois, USA</td>\n",
              "      <td>Lightweight Bout</td>\n",
              "      <td>Tony Ferguson</td>\n",
              "    </tr>\n",
              "    <tr>\n",
              "      <th>3</th>\n",
              "      <td>Jimmie Rivera</td>\n",
              "      <td>Petr Yan</td>\n",
              "      <td>0</td>\n",
              "      <td>2</td>\n",
              "      <td>73 of 192</td>\n",
              "      <td>56 of 189</td>\n",
              "      <td>38%</td>\n",
              "      <td>29%</td>\n",
              "      <td>76 of 195</td>\n",
              "      <td>58 of 192</td>\n",
              "      <td>0 of 3</td>\n",
              "      <td>1 of 3</td>\n",
              "      <td>0%</td>\n",
              "      <td>33%</td>\n",
              "      <td>0</td>\n",
              "      <td>0</td>\n",
              "      <td>0</td>\n",
              "      <td>1</td>\n",
              "      <td>0</td>\n",
              "      <td>0</td>\n",
              "      <td>42 of 145</td>\n",
              "      <td>40 of 166</td>\n",
              "      <td>15 of 24</td>\n",
              "      <td>13 of 19</td>\n",
              "      <td>16 of 23</td>\n",
              "      <td>3 of 4</td>\n",
              "      <td>60 of 173</td>\n",
              "      <td>42 of 167</td>\n",
              "      <td>9 of 15</td>\n",
              "      <td>10 of 12</td>\n",
              "      <td>4 of 4</td>\n",
              "      <td>4 of 10</td>\n",
              "      <td>Decision - Unanimous</td>\n",
              "      <td>3</td>\n",
              "      <td>5:00</td>\n",
              "      <td>3 Rnd (5-5-5)</td>\n",
              "      <td>Kevin MacDonald</td>\n",
              "      <td>June 08, 2019</td>\n",
              "      <td>Chicago, Illinois, USA</td>\n",
              "      <td>Bantamweight Bout</td>\n",
              "      <td>Petr Yan</td>\n",
              "    </tr>\n",
              "    <tr>\n",
              "      <th>4</th>\n",
              "      <td>Tai Tuivasa</td>\n",
              "      <td>Blagoy Ivanov</td>\n",
              "      <td>0</td>\n",
              "      <td>1</td>\n",
              "      <td>64 of 144</td>\n",
              "      <td>73 of 123</td>\n",
              "      <td>44%</td>\n",
              "      <td>59%</td>\n",
              "      <td>66 of 146</td>\n",
              "      <td>81 of 131</td>\n",
              "      <td>0 of 0</td>\n",
              "      <td>2 of 2</td>\n",
              "      <td>0%</td>\n",
              "      <td>100%</td>\n",
              "      <td>0</td>\n",
              "      <td>0</td>\n",
              "      <td>0</td>\n",
              "      <td>0</td>\n",
              "      <td>0</td>\n",
              "      <td>0</td>\n",
              "      <td>39 of 114</td>\n",
              "      <td>65 of 114</td>\n",
              "      <td>6 of 7</td>\n",
              "      <td>7 of 8</td>\n",
              "      <td>19 of 23</td>\n",
              "      <td>1 of 1</td>\n",
              "      <td>50 of 126</td>\n",
              "      <td>62 of 111</td>\n",
              "      <td>14 of 18</td>\n",
              "      <td>5 of 6</td>\n",
              "      <td>0 of 0</td>\n",
              "      <td>6 of 6</td>\n",
              "      <td>Decision - Unanimous</td>\n",
              "      <td>3</td>\n",
              "      <td>5:00</td>\n",
              "      <td>3 Rnd (5-5-5)</td>\n",
              "      <td>Dan Miragliotta</td>\n",
              "      <td>June 08, 2019</td>\n",
              "      <td>Chicago, Illinois, USA</td>\n",
              "      <td>Heavyweight Bout</td>\n",
              "      <td>Blagoy Ivanov</td>\n",
              "    </tr>\n",
              "    <tr>\n",
              "      <th>...</th>\n",
              "      <td>...</td>\n",
              "      <td>...</td>\n",
              "      <td>...</td>\n",
              "      <td>...</td>\n",
              "      <td>...</td>\n",
              "      <td>...</td>\n",
              "      <td>...</td>\n",
              "      <td>...</td>\n",
              "      <td>...</td>\n",
              "      <td>...</td>\n",
              "      <td>...</td>\n",
              "      <td>...</td>\n",
              "      <td>...</td>\n",
              "      <td>...</td>\n",
              "      <td>...</td>\n",
              "      <td>...</td>\n",
              "      <td>...</td>\n",
              "      <td>...</td>\n",
              "      <td>...</td>\n",
              "      <td>...</td>\n",
              "      <td>...</td>\n",
              "      <td>...</td>\n",
              "      <td>...</td>\n",
              "      <td>...</td>\n",
              "      <td>...</td>\n",
              "      <td>...</td>\n",
              "      <td>...</td>\n",
              "      <td>...</td>\n",
              "      <td>...</td>\n",
              "      <td>...</td>\n",
              "      <td>...</td>\n",
              "      <td>...</td>\n",
              "      <td>...</td>\n",
              "      <td>...</td>\n",
              "      <td>...</td>\n",
              "      <td>...</td>\n",
              "      <td>...</td>\n",
              "      <td>...</td>\n",
              "      <td>...</td>\n",
              "      <td>...</td>\n",
              "      <td>...</td>\n",
              "    </tr>\n",
              "    <tr>\n",
              "      <th>5139</th>\n",
              "      <td>Gerard Gordeau</td>\n",
              "      <td>Kevin Rosier</td>\n",
              "      <td>1</td>\n",
              "      <td>0</td>\n",
              "      <td>11 of 17</td>\n",
              "      <td>0 of 3</td>\n",
              "      <td>64%</td>\n",
              "      <td>0%</td>\n",
              "      <td>11 of 17</td>\n",
              "      <td>0 of 3</td>\n",
              "      <td>0 of 0</td>\n",
              "      <td>0 of 0</td>\n",
              "      <td>0%</td>\n",
              "      <td>0%</td>\n",
              "      <td>0</td>\n",
              "      <td>0</td>\n",
              "      <td>0</td>\n",
              "      <td>0</td>\n",
              "      <td>0</td>\n",
              "      <td>0</td>\n",
              "      <td>7 of 13</td>\n",
              "      <td>0 of 1</td>\n",
              "      <td>1 of 1</td>\n",
              "      <td>0 of 1</td>\n",
              "      <td>3 of 3</td>\n",
              "      <td>0 of 1</td>\n",
              "      <td>5 of 8</td>\n",
              "      <td>0 of 3</td>\n",
              "      <td>0 of 0</td>\n",
              "      <td>0 of 0</td>\n",
              "      <td>6 of 9</td>\n",
              "      <td>0 of 0</td>\n",
              "      <td>KO/TKO</td>\n",
              "      <td>1</td>\n",
              "      <td>0:59</td>\n",
              "      <td>No Time Limit</td>\n",
              "      <td>Joao Alberto Barreto</td>\n",
              "      <td>November 12, 1993</td>\n",
              "      <td>Denver, Colorado, USA</td>\n",
              "      <td>Open Weight Bout</td>\n",
              "      <td>Gerard Gordeau</td>\n",
              "    </tr>\n",
              "    <tr>\n",
              "      <th>5140</th>\n",
              "      <td>Ken Shamrock</td>\n",
              "      <td>Patrick Smith</td>\n",
              "      <td>0</td>\n",
              "      <td>0</td>\n",
              "      <td>1 of 1</td>\n",
              "      <td>4 of 8</td>\n",
              "      <td>100%</td>\n",
              "      <td>50%</td>\n",
              "      <td>4 of 4</td>\n",
              "      <td>16 of 20</td>\n",
              "      <td>1 of 2</td>\n",
              "      <td>0 of 0</td>\n",
              "      <td>50%</td>\n",
              "      <td>0%</td>\n",
              "      <td>2</td>\n",
              "      <td>0</td>\n",
              "      <td>0</td>\n",
              "      <td>0</td>\n",
              "      <td>0</td>\n",
              "      <td>0</td>\n",
              "      <td>1 of 1</td>\n",
              "      <td>1 of 4</td>\n",
              "      <td>0 of 0</td>\n",
              "      <td>1 of 1</td>\n",
              "      <td>0 of 0</td>\n",
              "      <td>2 of 3</td>\n",
              "      <td>0 of 0</td>\n",
              "      <td>1 of 1</td>\n",
              "      <td>0 of 0</td>\n",
              "      <td>1 of 1</td>\n",
              "      <td>1 of 1</td>\n",
              "      <td>2 of 6</td>\n",
              "      <td>Submission</td>\n",
              "      <td>1</td>\n",
              "      <td>1:49</td>\n",
              "      <td>No Time Limit</td>\n",
              "      <td>Joao Alberto Barreto</td>\n",
              "      <td>November 12, 1993</td>\n",
              "      <td>Denver, Colorado, USA</td>\n",
              "      <td>Open Weight Bout</td>\n",
              "      <td>Ken Shamrock</td>\n",
              "    </tr>\n",
              "    <tr>\n",
              "      <th>5141</th>\n",
              "      <td>Royce Gracie</td>\n",
              "      <td>Art Jimmerson</td>\n",
              "      <td>0</td>\n",
              "      <td>0</td>\n",
              "      <td>0 of 3</td>\n",
              "      <td>0 of 0</td>\n",
              "      <td>0%</td>\n",
              "      <td>0%</td>\n",
              "      <td>4 of 7</td>\n",
              "      <td>0 of 0</td>\n",
              "      <td>1 of 1</td>\n",
              "      <td>0 of 0</td>\n",
              "      <td>100%</td>\n",
              "      <td>0%</td>\n",
              "      <td>0</td>\n",
              "      <td>0</td>\n",
              "      <td>2</td>\n",
              "      <td>0</td>\n",
              "      <td>0</td>\n",
              "      <td>0</td>\n",
              "      <td>0 of 1</td>\n",
              "      <td>0 of 0</td>\n",
              "      <td>0 of 0</td>\n",
              "      <td>0 of 0</td>\n",
              "      <td>0 of 2</td>\n",
              "      <td>0 of 0</td>\n",
              "      <td>0 of 3</td>\n",
              "      <td>0 of 0</td>\n",
              "      <td>0 of 0</td>\n",
              "      <td>0 of 0</td>\n",
              "      <td>0 of 0</td>\n",
              "      <td>0 of 0</td>\n",
              "      <td>Submission</td>\n",
              "      <td>1</td>\n",
              "      <td>2:18</td>\n",
              "      <td>No Time Limit</td>\n",
              "      <td>Joao Alberto Barreto</td>\n",
              "      <td>November 12, 1993</td>\n",
              "      <td>Denver, Colorado, USA</td>\n",
              "      <td>Open Weight Bout</td>\n",
              "      <td>Royce Gracie</td>\n",
              "    </tr>\n",
              "    <tr>\n",
              "      <th>5142</th>\n",
              "      <td>Kevin Rosier</td>\n",
              "      <td>Zane Frazier</td>\n",
              "      <td>2</td>\n",
              "      <td>0</td>\n",
              "      <td>15 of 27</td>\n",
              "      <td>12 of 28</td>\n",
              "      <td>55%</td>\n",
              "      <td>42%</td>\n",
              "      <td>38 of 53</td>\n",
              "      <td>13 of 29</td>\n",
              "      <td>0 of 0</td>\n",
              "      <td>0 of 0</td>\n",
              "      <td>0%</td>\n",
              "      <td>0%</td>\n",
              "      <td>0</td>\n",
              "      <td>0</td>\n",
              "      <td>0</td>\n",
              "      <td>0</td>\n",
              "      <td>0</td>\n",
              "      <td>0</td>\n",
              "      <td>12 of 23</td>\n",
              "      <td>7 of 19</td>\n",
              "      <td>3 of 4</td>\n",
              "      <td>3 of 6</td>\n",
              "      <td>0 of 0</td>\n",
              "      <td>2 of 3</td>\n",
              "      <td>4 of 10</td>\n",
              "      <td>0 of 7</td>\n",
              "      <td>4 of 9</td>\n",
              "      <td>10 of 19</td>\n",
              "      <td>7 of 8</td>\n",
              "      <td>2 of 2</td>\n",
              "      <td>KO/TKO</td>\n",
              "      <td>1</td>\n",
              "      <td>4:20</td>\n",
              "      <td>No Time Limit</td>\n",
              "      <td>Joao Alberto Barreto</td>\n",
              "      <td>November 12, 1993</td>\n",
              "      <td>Denver, Colorado, USA</td>\n",
              "      <td>Open Weight Bout</td>\n",
              "      <td>Kevin Rosier</td>\n",
              "    </tr>\n",
              "    <tr>\n",
              "      <th>5143</th>\n",
              "      <td>Gerard Gordeau</td>\n",
              "      <td>Teila Tuli</td>\n",
              "      <td>0</td>\n",
              "      <td>0</td>\n",
              "      <td>3 of 5</td>\n",
              "      <td>0 of 1</td>\n",
              "      <td>60%</td>\n",
              "      <td>0%</td>\n",
              "      <td>3 of 5</td>\n",
              "      <td>0 of 1</td>\n",
              "      <td>0 of 0</td>\n",
              "      <td>0 of 1</td>\n",
              "      <td>0%</td>\n",
              "      <td>0%</td>\n",
              "      <td>0</td>\n",
              "      <td>0</td>\n",
              "      <td>0</td>\n",
              "      <td>0</td>\n",
              "      <td>0</td>\n",
              "      <td>0</td>\n",
              "      <td>3 of 5</td>\n",
              "      <td>0 of 1</td>\n",
              "      <td>0 of 0</td>\n",
              "      <td>0 of 0</td>\n",
              "      <td>0 of 0</td>\n",
              "      <td>0 of 0</td>\n",
              "      <td>1 of 3</td>\n",
              "      <td>0 of 1</td>\n",
              "      <td>0 of 0</td>\n",
              "      <td>0 of 0</td>\n",
              "      <td>2 of 2</td>\n",
              "      <td>0 of 0</td>\n",
              "      <td>KO/TKO</td>\n",
              "      <td>1</td>\n",
              "      <td>0:26</td>\n",
              "      <td>No Time Limit</td>\n",
              "      <td>Joao Alberto Barreto</td>\n",
              "      <td>November 12, 1993</td>\n",
              "      <td>Denver, Colorado, USA</td>\n",
              "      <td>Open Weight Bout</td>\n",
              "      <td>Gerard Gordeau</td>\n",
              "    </tr>\n",
              "  </tbody>\n",
              "</table>\n",
              "<p>5144 rows × 41 columns</p>\n",
              "</div>"
            ],
            "text/plain": [
              "                 R_fighter  ...                Winner\n",
              "0             Henry Cejudo  ...          Henry Cejudo\n",
              "1     Valentina Shevchenko  ...  Valentina Shevchenko\n",
              "2            Tony Ferguson  ...         Tony Ferguson\n",
              "3            Jimmie Rivera  ...              Petr Yan\n",
              "4              Tai Tuivasa  ...         Blagoy Ivanov\n",
              "...                    ...  ...                   ...\n",
              "5139        Gerard Gordeau  ...        Gerard Gordeau\n",
              "5140          Ken Shamrock  ...          Ken Shamrock\n",
              "5141          Royce Gracie  ...          Royce Gracie\n",
              "5142          Kevin Rosier  ...          Kevin Rosier\n",
              "5143        Gerard Gordeau  ...        Gerard Gordeau\n",
              "\n",
              "[5144 rows x 41 columns]"
            ]
          },
          "metadata": {
            "tags": []
          },
          "execution_count": 20
        }
      ]
    },
    {
      "cell_type": "code",
      "metadata": {
        "id": "hy1deZ18UTla",
        "colab_type": "code",
        "outputId": "ced2d165-83ca-4ca3-cfe7-892d185a0bbd",
        "colab": {
          "base_uri": "https://localhost:8080/",
          "height": 34
        }
      },
      "source": [
        "data.shape"
      ],
      "execution_count": 0,
      "outputs": [
        {
          "output_type": "execute_result",
          "data": {
            "text/plain": [
              "(5144, 41)"
            ]
          },
          "metadata": {
            "tags": []
          },
          "execution_count": 21
        }
      ]
    },
    {
      "cell_type": "code",
      "metadata": {
        "id": "44Q6oM6LUTlk",
        "colab_type": "code",
        "outputId": "d5bb3ffb-a759-4d56-8246-3b8465fe7e28",
        "colab": {
          "base_uri": "https://localhost:8080/",
          "height": 411
        }
      },
      "source": [
        "data.head()"
      ],
      "execution_count": 0,
      "outputs": [
        {
          "output_type": "execute_result",
          "data": {
            "text/html": [
              "<div>\n",
              "<style scoped>\n",
              "    .dataframe tbody tr th:only-of-type {\n",
              "        vertical-align: middle;\n",
              "    }\n",
              "\n",
              "    .dataframe tbody tr th {\n",
              "        vertical-align: top;\n",
              "    }\n",
              "\n",
              "    .dataframe thead th {\n",
              "        text-align: right;\n",
              "    }\n",
              "</style>\n",
              "<table border=\"1\" class=\"dataframe\">\n",
              "  <thead>\n",
              "    <tr style=\"text-align: right;\">\n",
              "      <th></th>\n",
              "      <th>R_fighter</th>\n",
              "      <th>B_fighter</th>\n",
              "      <th>R_KD</th>\n",
              "      <th>B_KD</th>\n",
              "      <th>R_SIG_STR.</th>\n",
              "      <th>B_SIG_STR.</th>\n",
              "      <th>R_SIG_STR_pct</th>\n",
              "      <th>B_SIG_STR_pct</th>\n",
              "      <th>R_TOTAL_STR.</th>\n",
              "      <th>B_TOTAL_STR.</th>\n",
              "      <th>R_TD</th>\n",
              "      <th>B_TD</th>\n",
              "      <th>R_TD_pct</th>\n",
              "      <th>B_TD_pct</th>\n",
              "      <th>R_SUB_ATT</th>\n",
              "      <th>B_SUB_ATT</th>\n",
              "      <th>R_PASS</th>\n",
              "      <th>B_PASS</th>\n",
              "      <th>R_REV</th>\n",
              "      <th>B_REV</th>\n",
              "      <th>R_HEAD</th>\n",
              "      <th>B_HEAD</th>\n",
              "      <th>R_BODY</th>\n",
              "      <th>B_BODY</th>\n",
              "      <th>R_LEG</th>\n",
              "      <th>B_LEG</th>\n",
              "      <th>R_DISTANCE</th>\n",
              "      <th>B_DISTANCE</th>\n",
              "      <th>R_CLINCH</th>\n",
              "      <th>B_CLINCH</th>\n",
              "      <th>R_GROUND</th>\n",
              "      <th>B_GROUND</th>\n",
              "      <th>win_by</th>\n",
              "      <th>last_round</th>\n",
              "      <th>last_round_time</th>\n",
              "      <th>Format</th>\n",
              "      <th>Referee</th>\n",
              "      <th>date</th>\n",
              "      <th>location</th>\n",
              "      <th>Fight_type</th>\n",
              "      <th>Winner</th>\n",
              "    </tr>\n",
              "  </thead>\n",
              "  <tbody>\n",
              "    <tr>\n",
              "      <th>0</th>\n",
              "      <td>Henry Cejudo</td>\n",
              "      <td>Marlon Moraes</td>\n",
              "      <td>0</td>\n",
              "      <td>0</td>\n",
              "      <td>90 of 171</td>\n",
              "      <td>57 of 119</td>\n",
              "      <td>52%</td>\n",
              "      <td>47%</td>\n",
              "      <td>99 of 182</td>\n",
              "      <td>59 of 121</td>\n",
              "      <td>1 of 4</td>\n",
              "      <td>0 of 2</td>\n",
              "      <td>25%</td>\n",
              "      <td>0%</td>\n",
              "      <td>1</td>\n",
              "      <td>0</td>\n",
              "      <td>1</td>\n",
              "      <td>0</td>\n",
              "      <td>0</td>\n",
              "      <td>0</td>\n",
              "      <td>73 of 150</td>\n",
              "      <td>35 of 89</td>\n",
              "      <td>13 of 16</td>\n",
              "      <td>7 of 8</td>\n",
              "      <td>4 of 5</td>\n",
              "      <td>15 of 22</td>\n",
              "      <td>45 of 118</td>\n",
              "      <td>54 of 116</td>\n",
              "      <td>19 of 23</td>\n",
              "      <td>2 of 2</td>\n",
              "      <td>26 of 30</td>\n",
              "      <td>1 of 1</td>\n",
              "      <td>KO/TKO</td>\n",
              "      <td>3</td>\n",
              "      <td>4:51</td>\n",
              "      <td>5 Rnd (5-5-5-5-5)</td>\n",
              "      <td>Marc Goddard</td>\n",
              "      <td>June 08, 2019</td>\n",
              "      <td>Chicago, Illinois, USA</td>\n",
              "      <td>UFC Bantamweight Title Bout</td>\n",
              "      <td>Henry Cejudo</td>\n",
              "    </tr>\n",
              "    <tr>\n",
              "      <th>1</th>\n",
              "      <td>Valentina Shevchenko</td>\n",
              "      <td>Jessica Eye</td>\n",
              "      <td>1</td>\n",
              "      <td>0</td>\n",
              "      <td>8 of 11</td>\n",
              "      <td>2 of 12</td>\n",
              "      <td>72%</td>\n",
              "      <td>16%</td>\n",
              "      <td>37 of 40</td>\n",
              "      <td>42 of 52</td>\n",
              "      <td>2 of 2</td>\n",
              "      <td>0 of 0</td>\n",
              "      <td>100%</td>\n",
              "      <td>0%</td>\n",
              "      <td>1</td>\n",
              "      <td>0</td>\n",
              "      <td>3</td>\n",
              "      <td>0</td>\n",
              "      <td>0</td>\n",
              "      <td>0</td>\n",
              "      <td>4 of 5</td>\n",
              "      <td>0 of 7</td>\n",
              "      <td>4 of 6</td>\n",
              "      <td>0 of 2</td>\n",
              "      <td>0 of 0</td>\n",
              "      <td>2 of 3</td>\n",
              "      <td>5 of 8</td>\n",
              "      <td>2 of 12</td>\n",
              "      <td>2 of 2</td>\n",
              "      <td>0 of 0</td>\n",
              "      <td>1 of 1</td>\n",
              "      <td>0 of 0</td>\n",
              "      <td>KO/TKO</td>\n",
              "      <td>2</td>\n",
              "      <td>0:26</td>\n",
              "      <td>5 Rnd (5-5-5-5-5)</td>\n",
              "      <td>Robert Madrigal</td>\n",
              "      <td>June 08, 2019</td>\n",
              "      <td>Chicago, Illinois, USA</td>\n",
              "      <td>UFC Women's Flyweight Title Bout</td>\n",
              "      <td>Valentina Shevchenko</td>\n",
              "    </tr>\n",
              "    <tr>\n",
              "      <th>2</th>\n",
              "      <td>Tony Ferguson</td>\n",
              "      <td>Donald Cerrone</td>\n",
              "      <td>0</td>\n",
              "      <td>0</td>\n",
              "      <td>104 of 200</td>\n",
              "      <td>68 of 185</td>\n",
              "      <td>52%</td>\n",
              "      <td>36%</td>\n",
              "      <td>104 of 200</td>\n",
              "      <td>68 of 185</td>\n",
              "      <td>0 of 0</td>\n",
              "      <td>1 of 1</td>\n",
              "      <td>0%</td>\n",
              "      <td>100%</td>\n",
              "      <td>0</td>\n",
              "      <td>0</td>\n",
              "      <td>0</td>\n",
              "      <td>0</td>\n",
              "      <td>0</td>\n",
              "      <td>0</td>\n",
              "      <td>65 of 144</td>\n",
              "      <td>43 of 152</td>\n",
              "      <td>25 of 37</td>\n",
              "      <td>15 of 23</td>\n",
              "      <td>14 of 19</td>\n",
              "      <td>10 of 10</td>\n",
              "      <td>103 of 198</td>\n",
              "      <td>68 of 184</td>\n",
              "      <td>1 of 2</td>\n",
              "      <td>0 of 1</td>\n",
              "      <td>0 of 0</td>\n",
              "      <td>0 of 0</td>\n",
              "      <td>TKO - Doctor's Stoppage</td>\n",
              "      <td>2</td>\n",
              "      <td>5:00</td>\n",
              "      <td>3 Rnd (5-5-5)</td>\n",
              "      <td>Dan Miragliotta</td>\n",
              "      <td>June 08, 2019</td>\n",
              "      <td>Chicago, Illinois, USA</td>\n",
              "      <td>Lightweight Bout</td>\n",
              "      <td>Tony Ferguson</td>\n",
              "    </tr>\n",
              "    <tr>\n",
              "      <th>3</th>\n",
              "      <td>Jimmie Rivera</td>\n",
              "      <td>Petr Yan</td>\n",
              "      <td>0</td>\n",
              "      <td>2</td>\n",
              "      <td>73 of 192</td>\n",
              "      <td>56 of 189</td>\n",
              "      <td>38%</td>\n",
              "      <td>29%</td>\n",
              "      <td>76 of 195</td>\n",
              "      <td>58 of 192</td>\n",
              "      <td>0 of 3</td>\n",
              "      <td>1 of 3</td>\n",
              "      <td>0%</td>\n",
              "      <td>33%</td>\n",
              "      <td>0</td>\n",
              "      <td>0</td>\n",
              "      <td>0</td>\n",
              "      <td>1</td>\n",
              "      <td>0</td>\n",
              "      <td>0</td>\n",
              "      <td>42 of 145</td>\n",
              "      <td>40 of 166</td>\n",
              "      <td>15 of 24</td>\n",
              "      <td>13 of 19</td>\n",
              "      <td>16 of 23</td>\n",
              "      <td>3 of 4</td>\n",
              "      <td>60 of 173</td>\n",
              "      <td>42 of 167</td>\n",
              "      <td>9 of 15</td>\n",
              "      <td>10 of 12</td>\n",
              "      <td>4 of 4</td>\n",
              "      <td>4 of 10</td>\n",
              "      <td>Decision - Unanimous</td>\n",
              "      <td>3</td>\n",
              "      <td>5:00</td>\n",
              "      <td>3 Rnd (5-5-5)</td>\n",
              "      <td>Kevin MacDonald</td>\n",
              "      <td>June 08, 2019</td>\n",
              "      <td>Chicago, Illinois, USA</td>\n",
              "      <td>Bantamweight Bout</td>\n",
              "      <td>Petr Yan</td>\n",
              "    </tr>\n",
              "    <tr>\n",
              "      <th>4</th>\n",
              "      <td>Tai Tuivasa</td>\n",
              "      <td>Blagoy Ivanov</td>\n",
              "      <td>0</td>\n",
              "      <td>1</td>\n",
              "      <td>64 of 144</td>\n",
              "      <td>73 of 123</td>\n",
              "      <td>44%</td>\n",
              "      <td>59%</td>\n",
              "      <td>66 of 146</td>\n",
              "      <td>81 of 131</td>\n",
              "      <td>0 of 0</td>\n",
              "      <td>2 of 2</td>\n",
              "      <td>0%</td>\n",
              "      <td>100%</td>\n",
              "      <td>0</td>\n",
              "      <td>0</td>\n",
              "      <td>0</td>\n",
              "      <td>0</td>\n",
              "      <td>0</td>\n",
              "      <td>0</td>\n",
              "      <td>39 of 114</td>\n",
              "      <td>65 of 114</td>\n",
              "      <td>6 of 7</td>\n",
              "      <td>7 of 8</td>\n",
              "      <td>19 of 23</td>\n",
              "      <td>1 of 1</td>\n",
              "      <td>50 of 126</td>\n",
              "      <td>62 of 111</td>\n",
              "      <td>14 of 18</td>\n",
              "      <td>5 of 6</td>\n",
              "      <td>0 of 0</td>\n",
              "      <td>6 of 6</td>\n",
              "      <td>Decision - Unanimous</td>\n",
              "      <td>3</td>\n",
              "      <td>5:00</td>\n",
              "      <td>3 Rnd (5-5-5)</td>\n",
              "      <td>Dan Miragliotta</td>\n",
              "      <td>June 08, 2019</td>\n",
              "      <td>Chicago, Illinois, USA</td>\n",
              "      <td>Heavyweight Bout</td>\n",
              "      <td>Blagoy Ivanov</td>\n",
              "    </tr>\n",
              "  </tbody>\n",
              "</table>\n",
              "</div>"
            ],
            "text/plain": [
              "              R_fighter  ...                Winner\n",
              "0          Henry Cejudo  ...          Henry Cejudo\n",
              "1  Valentina Shevchenko  ...  Valentina Shevchenko\n",
              "2         Tony Ferguson  ...         Tony Ferguson\n",
              "3         Jimmie Rivera  ...              Petr Yan\n",
              "4           Tai Tuivasa  ...         Blagoy Ivanov\n",
              "\n",
              "[5 rows x 41 columns]"
            ]
          },
          "metadata": {
            "tags": []
          },
          "execution_count": 22
        }
      ]
    },
    {
      "cell_type": "code",
      "metadata": {
        "id": "YLdWWwlWUTlz",
        "colab_type": "code",
        "outputId": "2da8e60a-d4e3-4a38-8443-2022211c8387",
        "colab": {
          "base_uri": "https://localhost:8080/",
          "height": 806
        }
      },
      "source": [
        "data.info()"
      ],
      "execution_count": 0,
      "outputs": [
        {
          "output_type": "stream",
          "text": [
            "<class 'pandas.core.frame.DataFrame'>\n",
            "RangeIndex: 5144 entries, 0 to 5143\n",
            "Data columns (total 41 columns):\n",
            "R_fighter          5144 non-null object\n",
            "B_fighter          5144 non-null object\n",
            "R_KD               5144 non-null int64\n",
            "B_KD               5144 non-null int64\n",
            "R_SIG_STR.         5144 non-null object\n",
            "B_SIG_STR.         5144 non-null object\n",
            "R_SIG_STR_pct      5144 non-null object\n",
            "B_SIG_STR_pct      5144 non-null object\n",
            "R_TOTAL_STR.       5144 non-null object\n",
            "B_TOTAL_STR.       5144 non-null object\n",
            "R_TD               5144 non-null object\n",
            "B_TD               5144 non-null object\n",
            "R_TD_pct           5144 non-null object\n",
            "B_TD_pct           5144 non-null object\n",
            "R_SUB_ATT          5144 non-null int64\n",
            "B_SUB_ATT          5144 non-null int64\n",
            "R_PASS             5144 non-null int64\n",
            "B_PASS             5144 non-null int64\n",
            "R_REV              5144 non-null int64\n",
            "B_REV              5144 non-null int64\n",
            "R_HEAD             5144 non-null object\n",
            "B_HEAD             5144 non-null object\n",
            "R_BODY             5144 non-null object\n",
            "B_BODY             5144 non-null object\n",
            "R_LEG              5144 non-null object\n",
            "B_LEG              5144 non-null object\n",
            "R_DISTANCE         5144 non-null object\n",
            "B_DISTANCE         5144 non-null object\n",
            "R_CLINCH           5144 non-null object\n",
            "B_CLINCH           5144 non-null object\n",
            "R_GROUND           5144 non-null object\n",
            "B_GROUND           5144 non-null object\n",
            "win_by             5144 non-null object\n",
            "last_round         5144 non-null int64\n",
            "last_round_time    5144 non-null object\n",
            "Format             5144 non-null object\n",
            "Referee            5121 non-null object\n",
            "date               5144 non-null object\n",
            "location           5144 non-null object\n",
            "Fight_type         5144 non-null object\n",
            "Winner             5061 non-null object\n",
            "dtypes: int64(9), object(32)\n",
            "memory usage: 1.6+ MB\n"
          ],
          "name": "stdout"
        }
      ]
    },
    {
      "cell_type": "code",
      "metadata": {
        "id": "VQ6SgzXyUTmB",
        "colab_type": "code",
        "outputId": "ba35b6c6-cae9-46d8-bf67-c08f7235f527",
        "colab": {
          "base_uri": "https://localhost:8080/",
          "height": 171
        }
      },
      "source": [
        "data.columns"
      ],
      "execution_count": 0,
      "outputs": [
        {
          "output_type": "execute_result",
          "data": {
            "text/plain": [
              "Index(['R_fighter', 'B_fighter', 'R_KD', 'B_KD', 'R_SIG_STR.', 'B_SIG_STR.',\n",
              "       'R_SIG_STR_pct', 'B_SIG_STR_pct', 'R_TOTAL_STR.', 'B_TOTAL_STR.',\n",
              "       'R_TD', 'B_TD', 'R_TD_pct', 'B_TD_pct', 'R_SUB_ATT', 'B_SUB_ATT',\n",
              "       'R_PASS', 'B_PASS', 'R_REV', 'B_REV', 'R_HEAD', 'B_HEAD', 'R_BODY',\n",
              "       'B_BODY', 'R_LEG', 'B_LEG', 'R_DISTANCE', 'B_DISTANCE', 'R_CLINCH',\n",
              "       'B_CLINCH', 'R_GROUND', 'B_GROUND', 'win_by', 'last_round',\n",
              "       'last_round_time', 'Format', 'Referee', 'date', 'location',\n",
              "       'Fight_type', 'Winner'],\n",
              "      dtype='object')"
            ]
          },
          "metadata": {
            "tags": []
          },
          "execution_count": 24
        }
      ]
    },
    {
      "cell_type": "code",
      "metadata": {
        "id": "JFIDmswAUTmW",
        "colab_type": "code",
        "outputId": "f4fdd040-842d-48c6-c3ee-dca1f02bdc08",
        "colab": {
          "base_uri": "https://localhost:8080/",
          "height": 737
        }
      },
      "source": [
        "data.iloc[0]"
      ],
      "execution_count": 0,
      "outputs": [
        {
          "output_type": "execute_result",
          "data": {
            "text/plain": [
              "R_fighter                         Henry Cejudo\n",
              "B_fighter                        Marlon Moraes\n",
              "R_KD                                         0\n",
              "B_KD                                         0\n",
              "R_SIG_STR.                           90 of 171\n",
              "B_SIG_STR.                           57 of 119\n",
              "R_SIG_STR_pct                              52%\n",
              "B_SIG_STR_pct                              47%\n",
              "R_TOTAL_STR.                         99 of 182\n",
              "B_TOTAL_STR.                         59 of 121\n",
              "R_TD                                    1 of 4\n",
              "B_TD                                    0 of 2\n",
              "R_TD_pct                                   25%\n",
              "B_TD_pct                                    0%\n",
              "R_SUB_ATT                                    1\n",
              "B_SUB_ATT                                    0\n",
              "R_PASS                                       1\n",
              "B_PASS                                       0\n",
              "R_REV                                        0\n",
              "B_REV                                        0\n",
              "R_HEAD                               73 of 150\n",
              "B_HEAD                                35 of 89\n",
              "R_BODY                                13 of 16\n",
              "B_BODY                                  7 of 8\n",
              "R_LEG                                   4 of 5\n",
              "B_LEG                                 15 of 22\n",
              "R_DISTANCE                           45 of 118\n",
              "B_DISTANCE                           54 of 116\n",
              "R_CLINCH                              19 of 23\n",
              "B_CLINCH                                2 of 2\n",
              "R_GROUND                              26 of 30\n",
              "B_GROUND                                1 of 1\n",
              "win_by                                  KO/TKO\n",
              "last_round                                   3\n",
              "last_round_time                           4:51\n",
              "Format                       5 Rnd (5-5-5-5-5)\n",
              "Referee                           Marc Goddard\n",
              "date                             June 08, 2019\n",
              "location                Chicago, Illinois, USA\n",
              "Fight_type         UFC Bantamweight Title Bout\n",
              "Winner                            Henry Cejudo\n",
              "Name: 0, dtype: object"
            ]
          },
          "metadata": {
            "tags": []
          },
          "execution_count": 25
        }
      ]
    },
    {
      "cell_type": "code",
      "metadata": {
        "id": "zlaYHyUhUTmq",
        "colab_type": "code",
        "colab": {}
      },
      "source": [
        "columns = ['R_SIG_STR.', 'B_SIG_STR.', 'R_TOTAL_STR.', 'B_TOTAL_STR.',\n",
        "       'R_TD', 'B_TD', 'R_HEAD', 'B_HEAD', 'R_BODY','B_BODY', 'R_LEG', 'B_LEG', \n",
        "        'R_DISTANCE', 'B_DISTANCE', 'R_CLINCH','B_CLINCH', 'R_GROUND', 'B_GROUND']\n",
        "attemp = '_att'\n",
        "landed = '_landed'\n",
        "\n",
        "for column in columns:\n",
        "    data[columns].isnull().sum()\n",
        "    data[column+attemp] = data[column].apply(lambda X: int(X.split('of')[1]))\n",
        "    data[column+landed] = data[column].apply(lambda X: int(X.split('of')[0]))\n",
        "    \n",
        "data.drop(columns, axis=1, inplace=True)"
      ],
      "execution_count": 0,
      "outputs": []
    },
    {
      "cell_type": "code",
      "metadata": {
        "id": "W88YjlnCUTm2",
        "colab_type": "code",
        "colab": {}
      },
      "source": [
        "pct_columns = ['R_SIG_STR_pct','B_SIG_STR_pct', 'R_TD_pct', 'B_TD_pct']\n",
        "\n",
        "for column in pct_columns:\n",
        "    data[column] = data[column].apply(lambda X: float(X.replace('%', ''))/100)"
      ],
      "execution_count": 0,
      "outputs": []
    },
    {
      "cell_type": "code",
      "metadata": {
        "id": "_pKMvHpxUTnH",
        "colab_type": "code",
        "colab": {}
      },
      "source": [
        "data['Winner'].isnull().sum()\n",
        "data['Winner'].fillna('Draw', inplace=True)\n"
      ],
      "execution_count": 0,
      "outputs": []
    },
    {
      "cell_type": "code",
      "metadata": {
        "id": "gbSYo5jHUTnX",
        "colab_type": "code",
        "colab": {}
      },
      "source": [
        "def get_renamed_winner(row):\n",
        "    if row['R_fighter'] == row['Winner']:\n",
        "        return 'RED'\n",
        "    elif row['B_fighter'] == row['Winner']:\n",
        "        return 'BLUE'\n",
        "    elif row['Winner'] == 'Draw':\n",
        "        return 'DRAW'\n",
        "\n",
        "data['Winner'] = data[['R_fighter', 'B_fighter', 'Winner']].apply(get_renamed_winner, axis=1)"
      ],
      "execution_count": 0,
      "outputs": []
    },
    {
      "cell_type": "code",
      "metadata": {
        "id": "Ufp8lR1hUTnk",
        "colab_type": "code",
        "outputId": "bec00554-1872-49b2-b867-f05b2e464ff1",
        "colab": {
          "base_uri": "https://localhost:8080/",
          "height": 86
        }
      },
      "source": [
        "data['Winner'].value_counts()"
      ],
      "execution_count": 0,
      "outputs": [
        {
          "output_type": "execute_result",
          "data": {
            "text/plain": [
              "RED     3470\n",
              "BLUE    1591\n",
              "DRAW      83\n",
              "Name: Winner, dtype: int64"
            ]
          },
          "metadata": {
            "tags": []
          },
          "execution_count": 30
        }
      ]
    },
    {
      "cell_type": "code",
      "metadata": {
        "id": "zyCM8tQtUTnu",
        "colab_type": "code",
        "outputId": "a632948b-9158-4cc4-dae5-4709e909724c",
        "colab": {
          "base_uri": "https://localhost:8080/",
          "height": 274
        }
      },
      "source": [
        "data.columns"
      ],
      "execution_count": 0,
      "outputs": [
        {
          "output_type": "execute_result",
          "data": {
            "text/plain": [
              "Index(['R_fighter', 'B_fighter', 'R_KD', 'B_KD', 'R_SIG_STR_pct',\n",
              "       'B_SIG_STR_pct', 'R_TD_pct', 'B_TD_pct', 'R_SUB_ATT', 'B_SUB_ATT',\n",
              "       'R_PASS', 'B_PASS', 'R_REV', 'B_REV', 'win_by', 'last_round',\n",
              "       'last_round_time', 'Format', 'Referee', 'date', 'location',\n",
              "       'Fight_type', 'Winner', 'R_SIG_STR._att', 'R_SIG_STR._landed',\n",
              "       'B_SIG_STR._att', 'B_SIG_STR._landed', 'R_TOTAL_STR._att',\n",
              "       'R_TOTAL_STR._landed', 'B_TOTAL_STR._att', 'B_TOTAL_STR._landed',\n",
              "       'R_TD_att', 'R_TD_landed', 'B_TD_att', 'B_TD_landed', 'R_HEAD_att',\n",
              "       'R_HEAD_landed', 'B_HEAD_att', 'B_HEAD_landed', 'R_BODY_att',\n",
              "       'R_BODY_landed', 'B_BODY_att', 'B_BODY_landed', 'R_LEG_att',\n",
              "       'R_LEG_landed', 'B_LEG_att', 'B_LEG_landed', 'R_DISTANCE_att',\n",
              "       'R_DISTANCE_landed', 'B_DISTANCE_att', 'B_DISTANCE_landed',\n",
              "       'R_CLINCH_att', 'R_CLINCH_landed', 'B_CLINCH_att', 'B_CLINCH_landed',\n",
              "       'R_GROUND_att', 'R_GROUND_landed', 'B_GROUND_att', 'B_GROUND_landed'],\n",
              "      dtype='object')"
            ]
          },
          "metadata": {
            "tags": []
          },
          "execution_count": 31
        }
      ]
    },
    {
      "cell_type": "code",
      "metadata": {
        "id": "ZVfMC2ewUTn-",
        "colab_type": "code",
        "colab": {}
      },
      "source": [
        "data.drop(['location','date','Referee','Format','last_round_time','Fight_type','win_by'], axis=1,inplace=True)"
      ],
      "execution_count": 0,
      "outputs": []
    },
    {
      "cell_type": "code",
      "metadata": {
        "id": "bUgVJf0tUToJ",
        "colab_type": "code",
        "colab": {}
      },
      "source": [
        "from sklearn.preprocessing import LabelEncoder\n",
        "enc = LabelEncoder()\n",
        "encode=data[['R_fighter','B_fighter','Winner']].apply(enc.fit_transform)\n",
        "data[['R_fighter','B_fighter','Winner']] = encode[['R_fighter','B_fighter','Winner']] "
      ],
      "execution_count": 0,
      "outputs": []
    },
    {
      "cell_type": "code",
      "metadata": {
        "id": "PrDuVB9GUToX",
        "colab_type": "code",
        "outputId": "4f9e5de8-8fd7-45fb-a55e-1e6f86bf92cd",
        "colab": {
          "base_uri": "https://localhost:8080/",
          "height": 994
        }
      },
      "source": [
        "data.info()"
      ],
      "execution_count": 0,
      "outputs": [
        {
          "output_type": "stream",
          "text": [
            "<class 'pandas.core.frame.DataFrame'>\n",
            "RangeIndex: 5144 entries, 0 to 5143\n",
            "Data columns (total 52 columns):\n",
            "R_fighter              5144 non-null int64\n",
            "B_fighter              5144 non-null int64\n",
            "R_KD                   5144 non-null int64\n",
            "B_KD                   5144 non-null int64\n",
            "R_SIG_STR_pct          5144 non-null float64\n",
            "B_SIG_STR_pct          5144 non-null float64\n",
            "R_TD_pct               5144 non-null float64\n",
            "B_TD_pct               5144 non-null float64\n",
            "R_SUB_ATT              5144 non-null int64\n",
            "B_SUB_ATT              5144 non-null int64\n",
            "R_PASS                 5144 non-null int64\n",
            "B_PASS                 5144 non-null int64\n",
            "R_REV                  5144 non-null int64\n",
            "B_REV                  5144 non-null int64\n",
            "last_round             5144 non-null int64\n",
            "Winner                 5144 non-null int64\n",
            "R_SIG_STR._att         5144 non-null int64\n",
            "R_SIG_STR._landed      5144 non-null int64\n",
            "B_SIG_STR._att         5144 non-null int64\n",
            "B_SIG_STR._landed      5144 non-null int64\n",
            "R_TOTAL_STR._att       5144 non-null int64\n",
            "R_TOTAL_STR._landed    5144 non-null int64\n",
            "B_TOTAL_STR._att       5144 non-null int64\n",
            "B_TOTAL_STR._landed    5144 non-null int64\n",
            "R_TD_att               5144 non-null int64\n",
            "R_TD_landed            5144 non-null int64\n",
            "B_TD_att               5144 non-null int64\n",
            "B_TD_landed            5144 non-null int64\n",
            "R_HEAD_att             5144 non-null int64\n",
            "R_HEAD_landed          5144 non-null int64\n",
            "B_HEAD_att             5144 non-null int64\n",
            "B_HEAD_landed          5144 non-null int64\n",
            "R_BODY_att             5144 non-null int64\n",
            "R_BODY_landed          5144 non-null int64\n",
            "B_BODY_att             5144 non-null int64\n",
            "B_BODY_landed          5144 non-null int64\n",
            "R_LEG_att              5144 non-null int64\n",
            "R_LEG_landed           5144 non-null int64\n",
            "B_LEG_att              5144 non-null int64\n",
            "B_LEG_landed           5144 non-null int64\n",
            "R_DISTANCE_att         5144 non-null int64\n",
            "R_DISTANCE_landed      5144 non-null int64\n",
            "B_DISTANCE_att         5144 non-null int64\n",
            "B_DISTANCE_landed      5144 non-null int64\n",
            "R_CLINCH_att           5144 non-null int64\n",
            "R_CLINCH_landed        5144 non-null int64\n",
            "B_CLINCH_att           5144 non-null int64\n",
            "B_CLINCH_landed        5144 non-null int64\n",
            "R_GROUND_att           5144 non-null int64\n",
            "R_GROUND_landed        5144 non-null int64\n",
            "B_GROUND_att           5144 non-null int64\n",
            "B_GROUND_landed        5144 non-null int64\n",
            "dtypes: float64(4), int64(48)\n",
            "memory usage: 2.0 MB\n"
          ],
          "name": "stdout"
        }
      ]
    },
    {
      "cell_type": "code",
      "metadata": {
        "id": "leZKiwaMUToi",
        "colab_type": "code",
        "colab": {}
      },
      "source": [
        "from sklearn.model_selection import train_test_split\n",
        "y_output=data[\"Winner\"]\n",
        "x_input=data.drop(\"Winner\",axis=1)\n",
        "x_train,x_test,y_train,y_test=train_test_split(x_input,y_output,test_size=0.3)"
      ],
      "execution_count": 0,
      "outputs": []
    },
    {
      "cell_type": "code",
      "metadata": {
        "id": "zDNZ55sRbtgF",
        "colab_type": "code",
        "outputId": "87338a85-8544-4175-9488-b7e9dfaeb5d8",
        "colab": {
          "base_uri": "https://localhost:8080/",
          "height": 34
        }
      },
      "source": [
        "x_train.shape"
      ],
      "execution_count": 0,
      "outputs": [
        {
          "output_type": "execute_result",
          "data": {
            "text/plain": [
              "(3600, 51)"
            ]
          },
          "metadata": {
            "tags": []
          },
          "execution_count": 37
        }
      ]
    },
    {
      "cell_type": "code",
      "metadata": {
        "id": "nXWXHOsjcVvz",
        "colab_type": "code",
        "colab": {}
      },
      "source": [
        "from tensorflow.keras import models,layers,optimizers,utils"
      ],
      "execution_count": 0,
      "outputs": []
    },
    {
      "cell_type": "code",
      "metadata": {
        "id": "GQUKfEW8nYmR",
        "colab_type": "code",
        "colab": {}
      },
      "source": [
        "model = models.Sequential()"
      ],
      "execution_count": 0,
      "outputs": []
    },
    {
      "cell_type": "code",
      "metadata": {
        "id": "pSf62iPPoZeU",
        "colab_type": "code",
        "colab": {}
      },
      "source": [
        "model.add(layers.Dense(500,activation=\"relu\",input_shape=(x_train.shape[1],)))\n",
        "model.add(layers.Dense(200,activation=\"relu\"))\n",
        "model.add(layers.Dense(100,activation=\"relu\"))\n",
        "model.add(layers.Dense(1))"
      ],
      "execution_count": 0,
      "outputs": []
    },
    {
      "cell_type": "code",
      "metadata": {
        "id": "jaTAvySBplCs",
        "colab_type": "code",
        "colab": {}
      },
      "source": [
        "model.compile(optimizer=\"rmsprop\",loss=\"mse\",metrics=[\"mae\"])"
      ],
      "execution_count": 0,
      "outputs": []
    },
    {
      "cell_type": "code",
      "metadata": {
        "id": "c4p_fgsmqdBm",
        "colab_type": "code",
        "outputId": "f04d397e-fa7e-4e9b-9783-25b681373d05",
        "colab": {
          "base_uri": "https://localhost:8080/",
          "height": 414
        }
      },
      "source": [
        "model.fit(x_train,y_train,epochs=10,batch_size=100)"
      ],
      "execution_count": 0,
      "outputs": [
        {
          "output_type": "stream",
          "text": [
            "Train on 3600 samples\n",
            "Epoch 1/10\n",
            "3600/3600 [==============================] - 0s 53us/sample - loss: 0.9806 - mae: 0.8574\n",
            "Epoch 2/10\n",
            "3600/3600 [==============================] - 0s 53us/sample - loss: 0.7888 - mae: 0.7598\n",
            "Epoch 3/10\n",
            "3600/3600 [==============================] - 0s 57us/sample - loss: 0.7009 - mae: 0.6922\n",
            "Epoch 4/10\n",
            "3600/3600 [==============================] - 0s 57us/sample - loss: 0.6885 - mae: 0.6711\n",
            "Epoch 5/10\n",
            "3600/3600 [==============================] - 0s 56us/sample - loss: 0.6420 - mae: 0.6225\n",
            "Epoch 6/10\n",
            "3600/3600 [==============================] - 0s 54us/sample - loss: 0.5877 - mae: 0.5878\n",
            "Epoch 7/10\n",
            "3600/3600 [==============================] - 0s 54us/sample - loss: 0.5688 - mae: 0.5718\n",
            "Epoch 8/10\n",
            "3600/3600 [==============================] - 0s 53us/sample - loss: 0.5668 - mae: 0.5647\n",
            "Epoch 9/10\n",
            "3600/3600 [==============================] - 0s 58us/sample - loss: 0.5715 - mae: 0.5511\n",
            "Epoch 10/10\n",
            "3600/3600 [==============================] - 0s 56us/sample - loss: 0.5115 - mae: 0.5238\n"
          ],
          "name": "stdout"
        },
        {
          "output_type": "execute_result",
          "data": {
            "text/plain": [
              "<tensorflow.python.keras.callbacks.History at 0x7f4f8cf5bc88>"
            ]
          },
          "metadata": {
            "tags": []
          },
          "execution_count": 54
        }
      ]
    },
    {
      "cell_type": "code",
      "metadata": {
        "id": "aGHZDpAQq9L9",
        "colab_type": "code",
        "colab": {}
      },
      "source": [
        "from sklearn.ensemble import GradientBoostingClassifier"
      ],
      "execution_count": 0,
      "outputs": []
    },
    {
      "cell_type": "code",
      "metadata": {
        "id": "_4JaLw8ps332",
        "colab_type": "code",
        "colab": {}
      },
      "source": [
        "model = GradientBoostingClassifier()"
      ],
      "execution_count": 0,
      "outputs": []
    },
    {
      "cell_type": "code",
      "metadata": {
        "id": "XKL9U1mWtORN",
        "colab_type": "code",
        "outputId": "ac1104b7-4577-4b69-e117-b95593cdf8d2",
        "colab": {
          "base_uri": "https://localhost:8080/",
          "height": 188
        }
      },
      "source": [
        "model.fit(x_train,y_train)"
      ],
      "execution_count": 0,
      "outputs": [
        {
          "output_type": "execute_result",
          "data": {
            "text/plain": [
              "GradientBoostingClassifier(ccp_alpha=0.0, criterion='friedman_mse', init=None,\n",
              "                           learning_rate=0.1, loss='deviance', max_depth=3,\n",
              "                           max_features=None, max_leaf_nodes=None,\n",
              "                           min_impurity_decrease=0.0, min_impurity_split=None,\n",
              "                           min_samples_leaf=1, min_samples_split=2,\n",
              "                           min_weight_fraction_leaf=0.0, n_estimators=100,\n",
              "                           n_iter_no_change=None, presort='deprecated',\n",
              "                           random_state=None, subsample=1.0, tol=0.0001,\n",
              "                           validation_fraction=0.1, verbose=0,\n",
              "                           warm_start=False)"
            ]
          },
          "metadata": {
            "tags": []
          },
          "execution_count": 57
        }
      ]
    },
    {
      "cell_type": "code",
      "metadata": {
        "id": "YGFT5B9YtjD8",
        "colab_type": "code",
        "outputId": "7a64304e-61c7-49c4-b931-cf7c1874e6f9",
        "colab": {
          "base_uri": "https://localhost:8080/",
          "height": 34
        }
      },
      "source": [
        "Score =model.score(x_test,y_test)\n",
        "Score"
      ],
      "execution_count": 0,
      "outputs": [
        {
          "output_type": "execute_result",
          "data": {
            "text/plain": [
              "0.8646373056994818"
            ]
          },
          "metadata": {
            "tags": []
          },
          "execution_count": 58
        }
      ]
    },
    {
      "cell_type": "code",
      "metadata": {
        "id": "Ku40-Zypt449",
        "colab_type": "code",
        "colab": {}
      },
      "source": [
        ""
      ],
      "execution_count": 0,
      "outputs": []
    }
  ]
}